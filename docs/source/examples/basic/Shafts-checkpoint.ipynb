{
 "cells": [
  {
   "cell_type": "markdown",
   "id": "1964770a",
   "metadata": {},
   "source": [
    "# Shafts"
   ]
  },
  {
   "cell_type": "code",
   "execution_count": 1,
   "id": "debbfe19",
   "metadata": {},
   "outputs": [
    {
     "name": "stderr",
     "output_type": "stream",
     "text": [
      "/home/gfa/.local/share/virtualenvs/GSDMA_2021-c2IPe6cS/lib/python3.8/site-packages/geopandas/_compat.py:111: UserWarning: The Shapely GEOS version (3.9.1-CAPI-1.14.2) is incompatible with the GEOS version PyGEOS was compiled with (3.10.1-CAPI-1.16.0). Conversions between both will be slow.\n",
      "  warnings.warn(\n"
     ]
    }
   ],
   "source": [
    "import itertools\n",
    "import numpy as np\n",
    "import pyvista as pv\n",
    "import geopandas as gpd\n",
    "from shapely import speedups\n",
    "speedups.disable()\n",
    "import flopy as fl\n",
    "import matplotlib as mplt\n",
    "import shapely\n",
    "import pyproj\n",
    "import fiona\n",
    "from geometron.geom_to_vtk import gdf_to_ug\n",
    "from shapely.geometry import Polygon\n",
    "from shapely.geometry import LineString\n",
    "from shapely.geometry import Point\n",
    "import pyacvd"
   ]
  },
  {
   "cell_type": "code",
   "execution_count": 4,
   "id": "f0059b1c",
   "metadata": {},
   "outputs": [],
   "source": [
    "gds = gpd.read_file('../../../../data/Shaft.gpkg')"
   ]
  },
  {
   "cell_type": "code",
   "execution_count": 5,
   "id": "596dc662",
   "metadata": {},
   "outputs": [],
   "source": [
    "gds['radius']=5"
   ]
  },
  {
   "cell_type": "code",
   "execution_count": 6,
   "id": "7faf3feb",
   "metadata": {},
   "outputs": [],
   "source": [
    "names = gds['Nom'].unique()"
   ]
  },
  {
   "cell_type": "code",
   "execution_count": null,
   "id": "4f846535",
   "metadata": {},
   "outputs": [],
   "source": [
    "shafts = []\n",
    "for i in names:\n",
    "    radius = gds.query(f'Nom==\"{i}\"').radius.mean()\n",
    "    vertices = np.array([(i.x, i.y, i.z) for i in gds.query(f'Nom==\"{i}\"').geometry.values])\n",
    "    line = pv.Spline(vertices)\n",
    "    shafts.append(line.tube(radius=radius))\n",
    "shafts = pv.MultiBlock(shafts)\n",
    "\n",
    "shafts.plot()\n",
    "shafts.save(r'C:\\Users\\melan\\OneDrive\\Documents\\Ma2 Mines\\TFE\\Qgis\\combo.vtm',binary=False)"
   ]
  },
  {
   "cell_type": "code",
   "execution_count": null,
   "id": "8ad0974b",
   "metadata": {},
   "outputs": [],
   "source": []
  }
 ],
 "metadata": {
  "kernelspec": {
   "display_name": "Python 3",
   "language": "python",
   "name": "python3"
  },
  "language_info": {
   "codemirror_mode": {
    "name": "ipython",
    "version": 3
   },
   "file_extension": ".py",
   "mimetype": "text/x-python",
   "name": "python",
   "nbconvert_exporter": "python",
   "pygments_lexer": "ipython3",
   "version": "3.8.12"
  }
 },
 "nbformat": 4,
 "nbformat_minor": 5
}
