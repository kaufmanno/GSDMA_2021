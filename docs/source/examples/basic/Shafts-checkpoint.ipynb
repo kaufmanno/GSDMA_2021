{
 "cells": [
  {
   "cell_type": "markdown",
   "metadata": {},
   "source": [
    "# Shafts"
   ]
  },
  {
   "cell_type": "code",
   "execution_count": 1,
   "metadata": {},
   "outputs": [
    {
     "name": "stderr",
     "output_type": "stream",
     "text": [
      "/home/gfa/.local/share/virtualenvs/GSDMA_2021-c2IPe6cS/lib/python3.8/site-packages/geopandas/_compat.py:111: UserWarning: The Shapely GEOS version (3.9.1-CAPI-1.14.2) is incompatible with the GEOS version PyGEOS was compiled with (3.10.1-CAPI-1.16.0). Conversions between both will be slow.\n",
      "  warnings.warn(\n"
     ]
    }
   ],
   "source": [
    "import numpy as np\n",
    "import matplotlib as mplt\n",
    "import pyvista as pv\n",
    "import geopandas as gpd\n",
    "from geometron.geom_to_vtk import gdf_to_ug\n",
    "from shapely.geometry import Polygon\n",
    "from shapely.geometry import LineString\n",
    "from shapely.geometry import Point\n",
    "\n",
    "#not certain\n",
    "import itertools\n",
    "from shapely import speedups\n",
    "speedups.disable()\n",
    "import shapely\n",
    "import flopy as fl\n",
    "import pyproj\n",
    "import fiona\n",
    "import pyacvd\n"
   ]
  },
  {
   "cell_type": "markdown",
   "metadata": {},
   "source": [
    "Importation of the geopackage as a dat frame"
   ]
  },
  {
   "cell_type": "code",
   "execution_count": 4,
   "metadata": {},
   "outputs": [],
   "source": [
    "gds = gpd.read_file('../../../../data/Shaft.gpkg')"
   ]
  },
  {
   "cell_type": "markdown",
   "metadata": {},
   "source": [
    "Definition of the radius of the tube of the shaft"
   ]
  },
  {
   "cell_type": "code",
   "execution_count": 5,
   "metadata": {},
   "outputs": [],
   "source": [
    "gds['radius']=5"
   ]
  },
  {
   "cell_type": "markdown",
   "metadata": {},
   "source": [
    "Determine the unique data with a unique name"
   ]
  },
  {
   "cell_type": "code",
   "execution_count": 6,
   "metadata": {},
   "outputs": [],
   "source": [
    "names = gds['Nom'].unique()"
   ]
  },
  {
   "cell_type": "markdown",
   "metadata": {},
   "source": [
    "For each unique name, a loop returns the coordinates of the shafts points which has this unique name. \n",
    "A spline is created for each group of points. \n",
    "This spline is then transformed into a tube."
   ]
  },
  {
   "cell_type": "code",
   "execution_count": null,
   "metadata": {
    "nbsphinx-thumbnail": {
     "tooltip": "This tooltip message was defined in cell metadata"
    }
   },
   "outputs": [],
   "source": [
    "shafts = []\n",
    "for i in names:\n",
    "    radius = gds.query(f'Nom==\"{i}\"').radius.mean()\n",
    "    vertices = np.array([(i.x, i.y, i.z) for i in gds.query(f'Nom==\"{i}\"').geometry.values])\n",
    "    line = pv.Spline(vertices)\n",
    "    shafts.append(line.tube(radius=radius))\n",
    "shafts = pv.MultiBlock(shafts)\n",
    "\n",
    "shafts.plot()\n",
    "#shafts.save('./tmp_files/galeries.vtm',binary=False)"
   ]
  },
  {
   "cell_type": "code",
   "execution_count": null,
   "metadata": {},
   "outputs": [],
   "source": []
  }
 ],
 "metadata": {
  "celltoolbar": "Éditer les Méta-Données",
  "kernelspec": {
   "display_name": "Python 3",
   "language": "python",
   "name": "python3"
  },
  "language_info": {
   "codemirror_mode": {
    "name": "ipython",
    "version": 3
   },
   "file_extension": ".py",
   "mimetype": "text/x-python",
   "name": "python",
   "nbconvert_exporter": "python",
   "pygments_lexer": "ipython3",
   "version": "3.6.9"
  }
 },
 "nbformat": 4,
 "nbformat_minor": 5
}
