{
 "cells": [
  {
   "cell_type": "markdown",
   "metadata": {},
   "source": [
    "# Shafts"
   ]
  },
  {
   "cell_type": "code",
   "execution_count": null,
   "metadata": {},
   "outputs": [],
   "source": [
    "import itertools\n",
    "import numpy as np\n",
    "import pyvista as pv\n",
    "import geopandas as gpd\n",
    "from shapely import speedups\n",
    "speedups.disable()\n",
    "import flopy as fl\n",
    "import matplotlib as mplt\n",
    "import shapely\n",
    "import pyproj\n",
    "import fiona\n",
    "from geometron.geom_to_vtk import gdf_to_ug\n",
    "from shapely.geometry import Polygon\n",
    "from shapely.geometry import LineString\n",
    "from shapely.geometry import Point\n",
    "import pyacvd"
   ]
  },
  {
   "cell_type": "code",
   "execution_count": 5,
   "metadata": {},
   "outputs": [],
   "source": [
    "gds = gpd.read_file(r'C:\\Users\\melan\\OneDrive\\Documents\\Ma2 Mines\\TFE\\Qgis\\Shaft.shp')"
   ]
  },
  {
   "cell_type": "code",
   "execution_count": 6,
   "metadata": {},
   "outputs": [],
   "source": [
    "gds['radius']=5"
   ]
  },
  {
   "cell_type": "code",
   "execution_count": 7,
   "metadata": {},
   "outputs": [],
   "source": [
    "names = gds['Nom'].unique()"
   ]
  },
  {
   "cell_type": "code",
   "execution_count": 8,
   "metadata": {},
   "outputs": [
    {
     "data": {
      "application/vnd.jupyter.widget-view+json": {
       "model_id": "35fbf933769248a69845483af5fd6170",
       "version_major": 2,
       "version_minor": 0
      },
      "text/plain": [
       "ViewInteractiveWidget(height=768, layout=Layout(height='auto', width='100%'), width=1024)"
      ]
     },
     "metadata": {},
     "output_type": "display_data"
    }
   ],
   "source": [
    "shafts = []\n",
    "for i in names:\n",
    "    radius = gds.query(f'Nom==\"{i}\"').radius.mean()\n",
    "    vertices = np.array([(i.x, i.y, i.z) for i in gds.query(f'Nom==\"{i}\"').geometry.values])\n",
    "    line = pv.Spline(vertices)\n",
    "    shafts.append(line.tube(radius=radius))\n",
    "shafts = pv.MultiBlock(shafts)\n",
    "\n",
    "shafts.plot()\n",
    "shafts.save(r'C:\\Users\\melan\\OneDrive\\Documents\\Ma2 Mines\\TFE\\Qgis\\combo.vtm',binary=False)"
   ]
  }
 ],
 "metadata": {
  "kernelspec": {
   "display_name": "Python 3",
   "language": "python",
   "name": "python3"
  },
  "language_info": {
   "codemirror_mode": {
    "name": "ipython",
    "version": 3
   },
   "file_extension": ".py",
   "mimetype": "text/x-python",
   "name": "python",
   "nbconvert_exporter": "python",
   "pygments_lexer": "ipython3",
   "version": "3.6.9"
  }
 },
 "nbformat": 4,
 "nbformat_minor": 5
}
