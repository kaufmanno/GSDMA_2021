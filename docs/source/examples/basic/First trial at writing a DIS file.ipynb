{
 "cells": [
  {
   "cell_type": "code",
   "execution_count": 1,
   "id": "458d81ba-074f-43d7-a21a-018e5d46b9fa",
   "metadata": {},
   "outputs": [],
   "source": [
    "# Rem: nodes are centered on the cells "
   ]
  },
  {
   "cell_type": "code",
   "execution_count": 1,
   "id": "da070fa8-cfe0-4b5d-b602-d942e3541259",
   "metadata": {},
   "outputs": [],
   "source": [
    "import numpy as np\n",
    "import pandas as pd"
   ]
  },
  {
   "cell_type": "code",
   "execution_count": 2,
   "id": "4f4df53d-b84d-4992-bed7-fafbf2729bc0",
   "metadata": {},
   "outputs": [],
   "source": [
    "import flopy"
   ]
  },
  {
   "cell_type": "code",
   "execution_count": 3,
   "id": "5cd28038-7078-4e50-bd1b-e605fe19143e",
   "metadata": {},
   "outputs": [],
   "source": [
    "m = flopy.modflow.Modflow()\n",
    "dis =flopy.modflow.ModflowDis.load('211108_trial.dis',m)\n",
    "lpf = flopy.modflow.ModflowLpf.load('211108_generic.lpf', m)"
   ]
  },
  {
   "cell_type": "code",
   "execution_count": 4,
   "id": "fc7083a9-c94c-4ccd-a56b-9dfa13ed63ec",
   "metadata": {},
   "outputs": [],
   "source": [
    "delr = 10.\n",
    "delc = 10.\n",
    "out_dis_file = './test_dis.dis'"
   ]
  },
  {
   "cell_type": "code",
   "execution_count": 8,
   "id": "1863b6ab-7782-4667-8eda-031b102a59ab",
   "metadata": {},
   "outputs": [
    {
     "data": {
      "text/plain": [
       "array([10., 10., 10., 10., 10., 10., 10., 10., 10., 10., 10., 10., 10.,\n",
       "       10., 10., 10., 10., 10., 10., 10., 10., 10., 10., 10., 10., 10.,\n",
       "       10., 10., 10., 10., 10., 10., 10., 10., 10., 10., 10., 10., 10.,\n",
       "       10., 10., 10., 10., 10., 10., 10., 10., 10., 10., 10., 10., 10.,\n",
       "       10., 10., 10., 10., 10., 10., 10., 10., 10., 10., 10., 10., 10.,\n",
       "       10., 10., 10., 10., 10., 10., 10., 10., 10., 10., 10., 10., 10.,\n",
       "       10., 10., 10., 10., 10., 10., 10., 10., 10., 10., 10., 10., 10.,\n",
       "       10., 10., 10., 10., 10., 10., 10., 10., 10.], dtype=float32)"
      ]
     },
     "execution_count": 8,
     "metadata": {},
     "output_type": "execute_result"
    }
   ],
   "source": [
    "dis.delr.array"
   ]
  },
  {
   "cell_type": "code",
   "execution_count": 5,
   "id": "bc19945e-529d-4ed7-b7a4-226354cf6fe2",
   "metadata": {},
   "outputs": [],
   "source": [
    "with open(out_dis_file, mode='w+') as out_dis:\n",
    "    out_dis.write('# MF2K DISCRETIZATION FILE\\n#\\n#\\n# NLAY NROW NCOL NPER TIMEUNITS LENUNITS\\n')\n",
    "    out_dis.write(f'{dis.nlay:6d}{dis.nrow:7d}{dis.ncol:7d}{dis.nper:7d}{dis.itmuni:7d}{dis.lenuni:7d}\\n')\n",
    "    for i in dis.laycbd.array:\n",
    "        out_dis.write(f'{i:1d} ')\n",
    "    out_dis.write(f'\\nCONSTANT {delr:.1f}\\n')\n",
    "    out_dis.write(f'CONSTANT {delc:.1f}\\n')"
   ]
  },
  {
   "cell_type": "code",
   "execution_count": 6,
   "id": "f8b1ae65-5952-4f40-a01a-2a24b88a9723",
   "metadata": {},
   "outputs": [
    {
     "name": "stdout",
     "output_type": "stream",
     "text": [
      "# MF2K DISCRETIZATION FILE\n",
      "#\n",
      "#\n",
      "# NLAY NROW NCOL NPER TIMEUNITS LENUNITS\n",
      "    16    100    100      1      1      2\n",
      "0 0 0 0 0 0 0 0 0 0 0 0 0 0 0 0 \n",
      "CONSTANT 10.0\n",
      "CONSTANT 10.0\n"
     ]
    }
   ],
   "source": [
    "with open(out_dis_file, mode='r') as out_dis:\n",
    "    for i in out_dis.readlines():\n",
    "        print(i, end='')"
   ]
  },
  {
   "cell_type": "code",
   "execution_count": null,
   "id": "0b3492b8-b53d-426f-99c0-e83732ac55d9",
   "metadata": {},
   "outputs": [],
   "source": []
  }
 ],
 "metadata": {
  "kernelspec": {
   "display_name": "Python 3 (ipykernel)",
   "language": "python",
   "name": "python3"
  },
  "language_info": {
   "codemirror_mode": {
    "name": "ipython",
    "version": 3
   },
   "file_extension": ".py",
   "mimetype": "text/x-python",
   "name": "python",
   "nbconvert_exporter": "python",
   "pygments_lexer": "ipython3",
   "version": "3.8.10"
  }
 },
 "nbformat": 4,
 "nbformat_minor": 5
}
