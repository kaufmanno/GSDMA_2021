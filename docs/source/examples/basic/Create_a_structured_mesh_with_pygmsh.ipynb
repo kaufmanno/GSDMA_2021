{
 "cells": [
  {
   "cell_type": "code",
   "execution_count": 8,
   "id": "0e24b5e0-2570-499a-a5a6-82a0a39881c0",
   "metadata": {},
   "outputs": [],
   "source": [
    "import pyvista as pv"
   ]
  },
  {
   "cell_type": "code",
   "execution_count": 52,
   "id": "b3bf5462-fa48-4dba-b905-a34df1aefb0d",
   "metadata": {},
   "outputs": [],
   "source": [
    "import pygmsh\n",
    "\n",
    "with pygmsh.geo.Geometry() as geom:\n",
    "    lcar = 1.\n",
    "    p1 = geom.add_point([0.0, 0.0, 0.0], lcar)\n",
    "    p2 = geom.add_point([10.0, 0.0, 0.0], lcar)\n",
    "    p3 = geom.add_point([10.0, 10.0, 5.0], lcar)\n",
    "    p4 = geom.add_point([0.0, 10.0, 0.0], lcar)\n",
    "    l1 = geom.add_line(p1, p2)\n",
    "    l2 = geom.add_line(p2, p3)\n",
    "    l3 = geom.add_line(p3, p4)\n",
    "    l4 = geom.add_line(p4, p1)\n",
    "    ll = geom.add_curve_loop([l1, l2, l3, l4])\n",
    "    s1 = geom.add_surface(ll)\n",
    "    geom.set_transfinite_curve(l1, mesh_type='Progression', num_nodes=11, coeff=1.)\n",
    "    geom.set_transfinite_curve(l2, mesh_type='Progression', num_nodes=11, coeff=1.)\n",
    "    geom.set_transfinite_curve(l3, mesh_type='Progression', num_nodes=11, coeff=1.)\n",
    "    geom.set_transfinite_curve(l4, mesh_type='Progression', num_nodes=11, coeff=1.)\n",
    "    geom.set_transfinite_surface(s1, arrangement='left', corner_pts=[p1,p2,p3,p4])\n",
    "    geom.set_recombined_surfaces([s1])\n",
    "    \n",
    "    mesh = geom.generate_mesh()"
   ]
  },
  {
   "cell_type": "code",
   "execution_count": 53,
   "id": "8b542d3d-db98-4185-920f-bb2c98288589",
   "metadata": {},
   "outputs": [],
   "source": [
    "mesh.write('./tmp_files/test_mesh.vtk')"
   ]
  },
  {
   "cell_type": "code",
   "execution_count": 54,
   "id": "a819fcab-a625-445b-91ad-202a6174dc2a",
   "metadata": {},
   "outputs": [],
   "source": [
    "vtk = pv.read('./tmp_files/test_mesh.vtk')ws"
   ]
  },
  {
   "cell_type": "code",
   "execution_count": 56,
   "id": "6cc3835e-3e18-4374-b02d-40653f8ff065",
   "metadata": {},
   "outputs": [
    {
     "data": {},
     "metadata": {},
     "output_type": "display_data"
    },
    {
     "data": {
      "text/html": [
       "<div id='1031'>\n",
       "\n",
       "\n",
       "\n",
       "\n",
       "\n",
       "  <div class=\"bk-root\" id=\"3d0228e9-0324-4e84-b221-c7c7e736d2df\" data-root-id=\"1031\"></div>\n",
       "</div>\n",
       "<script type=\"application/javascript\">(function(root) {\n",
       "  function embed_document(root) {\n",
       "    var docs_json = {\"959d5964-3a9b-4f9d-8803-a80fb6ad6e94\":{\"defs\":[{\"extends\":null,\"module\":null,\"name\":\"ReactiveHTML1\",\"overrides\":[],\"properties\":[]},{\"extends\":null,\"module\":null,\"name\":\"FlexBox1\",\"overrides\":[],\"properties\":[{\"default\":\"flex-start\",\"kind\":null,\"name\":\"align_content\"},{\"default\":\"flex-start\",\"kind\":null,\"name\":\"align_items\"},{\"default\":\"row\",\"kind\":null,\"name\":\"flex_direction\"},{\"default\":\"wrap\",\"kind\":null,\"name\":\"flex_wrap\"},{\"default\":\"flex-start\",\"kind\":null,\"name\":\"justify_content\"}]},{\"extends\":null,\"module\":null,\"name\":\"TemplateActions1\",\"overrides\":[],\"properties\":[{\"default\":0,\"kind\":null,\"name\":\"open_modal\"},{\"default\":0,\"kind\":null,\"name\":\"close_modal\"}]},{\"extends\":null,\"module\":null,\"name\":\"MaterialTemplateActions1\",\"overrides\":[],\"properties\":[{\"default\":0,\"kind\":null,\"name\":\"open_modal\"},{\"default\":0,\"kind\":null,\"name\":\"close_modal\"}]}],\"roots\":{\"references\":[{\"attributes\":{\"arrays\":{\"2ebda7d3c6c3627ba233a85b7027cd58\":\"UEsDBBQAAAAIAHcQblOBkDoDkwEAAAAEAAAlAAAAZGF0YS8yZWJkYTdkM2M2YzM2MjdiYTIzM2E4NWI3MDI3Y2Q1OHXTb0SdYRgH4E5/VllpSibJJBlJTERGJEZEjIgYETEiYmxEjIjYh4gYETEiYiJiIjISmUgmySRNaqo5Z53O2TXd077M6/r2vs9z37+fN5uTk83+lSCXPAoopJgSyiinkipqqKWeBppoppU2Ouikmx766GeQIUZ4wxjjTDLFDLPMs8ASy6yyxgabbLPDHvsccsQJp5xzwRVJUlyT5obMrUz2zg1pfpHkJ5f84IzvHPONA76yyxe2+Mw6n1jhI4t8YI73TPOOCd4yyiuGeckAL+jlOV08o52ntPCERh5TxyOqeUgFDyjlPkXcI588Evz/ScRb+fFVUZxSGqdWxC3VcWtdTNEYU7XElO0xdVds0RtbDcSWw7H1aKQwEalMR0pzkdpipLgSqa5HyluR+m60cBCtHEdLZ9HaZbSYilbT0fI/rWeyt25Ic02KJFdccM4pJxxxyD577LDNJhusscoySywwzywzTDHJOGO8ZoQhBumnjx666aSDNlpppokG6qmlhioqKaeMEooppIA8cknc/e5//AZQSwECFAMUAAAACAB3EG5TgZA6A5MBAAAABAAAJQAAAAAAAAAAAAAAgAEAAAAAZGF0YS8yZWJkYTdkM2M2YzM2MjdiYTIzM2E4NWI3MDI3Y2Q1OFBLBQYAAAAAAQABAFMAAADWAQAAAAA=\",\"ab5bc32335631efbca34c3d86b3aeafc\":\"UEsDBBQAAAAIAHcQblMYrt6QDQAAACAAAAAlAAAAZGF0YS9hYjViYzMyMzM1NjMxZWZiY2EzNGMzZDg2YjNhZWFmY2NkgABGJMwEpZmBGABQSwECFAMUAAAACAB3EG5TGK7ekA0AAAAgAAAAJQAAAAAAAAAAAAAAgAEAAAAAZGF0YS9hYjViYzMyMzM1NjMxZWZiY2EzNGMzZDg2YjNhZWFmY1BLBQYAAAAAAQABAFMAAABQAAAAAAA=\",\"b47c97d519dee1200adf42ce8c31052c\":\"UEsDBBQAAAAIAHcQblPc5iPUdQAAAOABAAAlAAAAZGF0YS9iNDdjOTdkNTE5ZGVlMTIwMGFkZjQyY2U4YzMxMDUyY03R2Q6CQBAFUR0FEREV913c5v//ECrWJHZyc+q9w+B3435BMxtzGyc2FjZObSxtnNlY2Ti0cW5jbePCxqWNKxsbG9c2bmzc2sm03Z97Gw82Hm082Xi28WLj1cabjSMb7zY+bGxtfNr4svFt48fGr43Rjv61A1BLAQIUAxQAAAAIAHcQblPc5iPUdQAAAOABAAAlAAAAAAAAAAAAAACAAQAAAABkYXRhL2I0N2M5N2Q1MTlkZWUxMjAwYWRmNDJjZThjMzEwNTJjUEsFBgAAAAABAAEAUwAAALgAAAAAAA==\",\"bc36164553bbf9509093e28305345753\":\"UEsDBBQAAAAIAHcQblNw8Ii3jwQAAFgLAAAlAAAAZGF0YS9iYzM2MTY0NTUzYmJmOTUwOTA5M2UyODMwNTM0NTc1M32WfWhVdRjHr62cY4YzTZeVd5NBEr2sosCo/X6WGNpKnS+LELsRmNCEWOQfQRGjoHRMZiGakC3NtjuRRQRbTFRGtfXiFmK4Ed6tud29ee/1vuyee3fvPd3f+X5/B3bPxfPPw/nsnOc83+f3fZ47l+t2V4W8Pddxucz/d5fr/VEzewVFbobyXsVNB3/jd4ULHd9NdSi+xMGPXFd8mYO/MKb4SgcPTSt+v4O3hBV3O3hrSvFyB8dVIfdRH6JPaF5KfYhBm++mPsS4zRPUh2javJn6EAuk5lofYqHNtT7EYptrfYhLbK71IS4lX2P/HfEexrIcXsL4QA5fzFiawxcxLs/hd+bks/0jM+Z8fbjXfXPlPB8S86Pmw7bPrNfznKclP8/5J838fpkz8/sLeZx+NMz8/k3N05f7vHM+Qub8eaoZx31ZGrG74Xj2ahMPTeL+TQgQ/RbvEnfMgLck8d3xNU9lrx4xEgBfaqDOpk/V832i+xb4mRR0vWW93y+ao+Db0+jDEw+rPFfEu3HwRBp969uzN3v9I15NMk8GfTa+UPkHhZt1e3kuZ/v+zF7/is6/UHcV3/ulDvVvvUI9UcTROtQ5eg33G2LQVbYM9XxwHfyREHQ9WI/vltwAr05A12uDKvrE95Pgp5PQ1VCu8owKGQRPzkHXgVqla1wMsI7qNHR91KTyT4q32fcd1PXDr0rXjOjuR30e9qmuEP1fdRV8Hb8zsBD1vzcEPhFE3N+I/vztw/3GCehaV4w6K7kPZmPQVWHp8ouDU+CJOHTta0M9fuY1EtA1eV7xkHiJfTTmoOvptSp/RHxL32Qy0NVknWNMjHWijsP0RWMtzuWPi+DfsK/uneh/Ry94I+sadKH+YwPgnmHEPa+jnx9fw/3JMHSV9uA7e/nc5hh0eVeizmr2JR6HLs8WdV6zopI+OJOErvbPVP6EuI++92pdPaoPKTE1gu91cA4OXVKxX8gx8EX00XNd8M9XE+CP8hxW9KH/4WnwA9Th6US+zUHwTYzY8xHRQp1fh6HryH8qxkWC52rEoCvgV3FObKWP4We3PBZAXd9xbndQ1xbrPBfIGT/yDnLuT90Lv52cAq/n3ETvxrlsvAk+4IOunw7DP5Eg6+O5TRTRJ6w7QN2NQ6j/FZ6Tfu/Hs+hzkr6MRaArekFxl/RyDo04dK2y9kyB1Hsnk4au3i/VOd4lYzfxfnwauiKbsH/CQfAh7om1VZjfyC3wes7ZCi/8H2Ud5+jT4mfgH933ozznx6+i/wZ9pvs0/DPqT3GuZvmd5kOqzgKZ4h45PQtdp3ar/Aulyb3ZSl3ux5TeImlE8Nxq7nXvh5ijl2PgG7gXq/ZjXnRevVdeLMa5JNnHHs7lCQ/8v42+WU9ff3IZ+Vo5J8fpC99q9D/DvRBhXy/tQv013IO6rhvWPiyS7dz726mr5jfVn8Uyxf8/1vN37HIH9ts2PneOvwPPnoDf2si7uEdr38H+0T4Y4R46+jl8pX3v5xw/b/2ftsCe8wDnYFcD/KP3Wpg+OliO/u80weM8h/GLqL+dPEMdT1aq50vk/1BLAQIUAxQAAAAIAHcQblNw8Ii3jwQAAFgLAAAlAAAAAAAAAAAAAACAAQAAAABkYXRhL2JjMzYxNjQ1NTNiYmY5NTA5MDkzZTI4MzA1MzQ1NzUzUEsFBgAAAAABAAEAUwAAANIEAAAAAA==\",\"db44ac1ecab2b1a081a450bdd17f50b2\":\"UEsDBBQAAAAIAHcQblMVFr0j8gEAANAHAAAlAAAAZGF0YS9kYjQ0YWMxZWNhYjJiMWEwODFhNDUwYmRkMTdmNTBiMjXP+beIZRxFccPJlBAiinsv9yJTyVDmWRHKkCI0GDIXZfjzPWf5eNc6a7/7+Wl/M+vdl7EtY5v9b+ZfjG3ytolvHZvxNsO3jU17m+bbxzZ628h3jG3wtoHvHJvyNsW/HJv0Nsm/GpvwNsHXj8311n0wtkv7+5vqX2sP1ndrD9b3aA/W92oP1vdpD9a/0R6sf6s9WN+vPVhf55b3N8wbO6A9WD+oPVg/pD1YP6w9WD+iPVg/qj1YP6Y9WD+uPVg/oT1Y/9wtccP8sZPag/VT2oP109qD9TPag/XvtAfr32sP1s9qD9bPaQ/Wf9AerH/mlrhhwdh57cH6Be3B+kXtwfqP2oP1n7QH65e0B+uXtQfrV7QH61e1B+tr3RI3LBz7WXuwfk17sP6L9mD9V+3B+nXtwfoN7cH6b9qD9Zvag/Vb2oP1NW6JGxaN3dYerP+uPVj/Q3uw/qf2YP0v7cH6He3B+l3twfo97cH6fe3B+qduiRs+HPtbe7D+QHuw/lB7sP5Ie7D+WHuw/kR7sP5Ue7D+THuw/o/2YH21W+KGxWP/ag/Wn2sP1l9oD9b/0x6s/689WH+pPVh/pT1Yf609WH+jPVhf5Za4YfbYR9qD9SXag/Wl2oP1ZdqD9Y+1B+vLtQfrK7QH6yu1B+ufaA/W57jlLVBLAQIUAxQAAAAIAHcQblMVFr0j8gEAANAHAAAlAAAAAAAAAAAAAACAAQAAAABkYXRhL2RiNDRhYzFlY2FiMmIxYTA4MWE0NTBiZGQxN2Y1MGIyUEsFBgAAAAABAAEAUwAAADUCAAAAAA==\"},\"axes\":{\"id\":\"1030\"},\"height\":600,\"margin\":[5,5,5,5],\"orientation_widget\":true,\"scene\":{\"calls\":[[\"addRenderer\",[\"instance:${db5d3a6c-b452-4f4d-9453-cda3062b2ce70000000008197770}\"]],[\"addRenderer\",[\"instance:${db5d3a6c-b452-4f4d-9453-cda3062b2ce70000000008191c90}\"]],[\"addRenderer\",[\"instance:${db5d3a6c-b452-4f4d-9453-cda3062b2ce700000000081f0320}\"]]],\"dependencies\":[{\"calls\":[[\"setActiveCamera\",[\"instance:${00000000081aa500}\"]],[\"addViewProp\",[\"instance:${db5d3a6c-b452-4f4d-9453-cda3062b2ce700000000081fb670}\"]]],\"dependencies\":[{\"id\":\"00000000081aa500\",\"parent\":\"db5d3a6c-b452-4f4d-9453-cda3062b2ce70000000008197770\",\"properties\":{\"clippingRange\":[14.326409094693393,47.49072171450229],\"focalPoint\":[5.0,5.0,2.5],\"position\":[21.73032607475616,21.73032607475616,19.23032607475616],\"viewUp\":[0.0,0.0,1.0]},\"type\":\"vtkOpenGLCamera\"},{\"calls\":[[\"setMapper\",[\"instance:${db5d3a6c-b452-4f4d-9453-cda3062b2ce700000000081f9070}\"]],[\"setProperty\",[\"instance:${db5d3a6c-b452-4f4d-9453-cda3062b2ce700000000081fbf80}\"]]],\"dependencies\":[{\"calls\":[[\"setInputData\",[\"instance:${db5d3a6c-b452-4f4d-9453-cda3062b2ce700000000081f9070-dataset-0}\",0]],[\"setLookupTable\",[\"instance:${db5d3a6c-b452-4f4d-9453-cda3062b2ce700000000081faef0}\"]]],\"dependencies\":[{\"id\":\"db5d3a6c-b452-4f4d-9453-cda3062b2ce700000000081f9070-dataset-0\",\"parent\":\"db5d3a6c-b452-4f4d-9453-cda3062b2ce700000000081f9070\",\"properties\":{\"fields\":[],\"lines\":{\"dataType\":\"Uint32Array\",\"hash\":\"b47c97d519dee1200adf42ce8c31052c\",\"name\":null,\"numberOfComponents\":1,\"ranges\":[{\"component\":null,\"max\":39.0,\"min\":0.0}],\"size\":120,\"vtkClass\":\"vtkCellArray\"},\"points\":{\"dataType\":\"Float64Array\",\"hash\":\"bc36164553bbf9509093e28305345753\",\"name\":\"Points\",\"numberOfComponents\":3,\"ranges\":[{\"component\":null,\"max\":10.0,\"min\":0.0},{\"component\":null,\"max\":10.0,\"min\":0.0},{\"component\":null,\"max\":5.0,\"min\":0.0},{\"component\":null,\"max\":15.0,\"min\":0.0}],\"size\":363,\"vtkClass\":\"vtkPoints\"},\"polys\":{\"dataType\":\"Uint32Array\",\"hash\":\"db44ac1ecab2b1a081a450bdd17f50b2\",\"name\":null,\"numberOfComponents\":1,\"ranges\":[{\"component\":null,\"max\":120.0,\"min\":0.0}],\"size\":500,\"vtkClass\":\"vtkCellArray\"},\"verts\":{\"dataType\":\"Uint32Array\",\"hash\":\"ab5bc32335631efbca34c3d86b3aeafc\",\"name\":null,\"numberOfComponents\":1,\"ranges\":[{\"component\":null,\"max\":3.0,\"min\":0.0}],\"size\":8,\"vtkClass\":\"vtkCellArray\"}},\"type\":\"vtkPolyData\"},{\"arrays\":[{\"dataType\":\"Uint8Array\",\"hash\":\"2ebda7d3c6c3627ba233a85b7027cd58\",\"name\":null,\"numberOfComponents\":4,\"ranges\":[{\"component\":null,\"max\":255.0,\"min\":0.0},{\"component\":null,\"max\":255.0,\"min\":0.0},{\"component\":null,\"max\":255.0,\"min\":0.0},{\"component\":null,\"max\":255.0,\"min\":255.0},{\"component\":null,\"max\":441.0963613542964,\"min\":360.62445840513925}],\"registration\":\"setTable\",\"size\":1024,\"vtkClass\":\"vtkDataArray\"}],\"id\":\"db5d3a6c-b452-4f4d-9453-cda3062b2ce700000000081faef0\",\"parent\":\"db5d3a6c-b452-4f4d-9453-cda3062b2ce700000000081f9070\",\"properties\":{\"aboveRangeColor\":[1.0,1.0,1.0,1.0],\"alpha\":1.0,\"belowRangeColor\":[0.0,0.0,0.0,1.0],\"hueRange\":[0.5,0],\"indexedLookup\":0,\"nanColor\":[0.5,0.0,0.0,1.0],\"numberOfColors\":256,\"range\":[0.0,1.0],\"saturationRange\":[1.0,1.0],\"useAboveRangeColor\":false,\"useBelowRangeColor\":false,\"valueRange\":[0.0,1.0],\"vectorComponent\":0,\"vectorMode\":1,\"vectorSize\":-1},\"type\":\"vtkLookupTable\"}],\"id\":\"db5d3a6c-b452-4f4d-9453-cda3062b2ce700000000081f9070\",\"parent\":\"db5d3a6c-b452-4f4d-9453-cda3062b2ce700000000081fb670\",\"properties\":{\"arrayAccessMode\":1,\"colorByArrayName\":null,\"colorMode\":0,\"interpolateScalarsBeforeMapping\":1,\"renderTime\":0.0,\"resolveCoincidentTopology\":0,\"scalarMode\":5,\"scalarRange\":[0.0,1.0],\"scalarVisibility\":1,\"useLookupTableScalarRange\":0},\"type\":\"vtkDataSetMapper\"},{\"id\":\"db5d3a6c-b452-4f4d-9453-cda3062b2ce700000000081fbf80\",\"parent\":\"db5d3a6c-b452-4f4d-9453-cda3062b2ce700000000081fb670\",\"properties\":{\"ambient\":0.0,\"ambientColor\":[1.0,0.0,0.0],\"backfaceCulling\":0,\"color\":[1.0,0.0,0.0],\"diffuse\":1.0,\"diffuseColor\":[1.0,0.0,0.0],\"edgeColor\":[0.5019607843137255,0.5019607843137255,0.5019607843137255],\"edgeVisibility\":1,\"frontfaceCulling\":0,\"interpolation\":0,\"lighting\":1,\"lineWidth\":1.0,\"opacity\":1.0,\"pointSize\":5.0,\"representation\":2,\"specular\":0.0,\"specularColor\":[1.0,0.0,0.0],\"specularPower\":100.0},\"type\":\"vtkOpenGLProperty\"}],\"id\":\"db5d3a6c-b452-4f4d-9453-cda3062b2ce700000000081fb670\",\"parent\":\"db5d3a6c-b452-4f4d-9453-cda3062b2ce70000000008197770\",\"properties\":{\"dragable\":1,\"forceOpaque\":false,\"forceTranslucent\":false,\"orientation\":[0.0,-0.0,0.0],\"origin\":[0.0,0.0,0.0],\"pickable\":1,\"position\":[0.0,0.0,0.0],\"scale\":[1.0,1.0,1.0],\"useBounds\":true,\"visibility\":1},\"type\":\"vtkOpenGLActor\"}],\"id\":\"db5d3a6c-b452-4f4d-9453-cda3062b2ce70000000008197770\",\"parent\":\"db5d3a6c-b452-4f4d-9453-cda3062b2ce70000000007cbff50\",\"properties\":{\"background\":[0.3,0.3,0.3],\"background2\":[0.2,0.2,0.2],\"clippingRangeExpansion\":0.5,\"interactive\":1,\"layer\":0,\"lightFollowCamera\":1,\"maximumNumberOfPeels\":4,\"nearClippingPlaneTolerance\":0.001,\"occlusionRatio\":0.0,\"preserveColorBuffer\":0,\"preserveDepthBuffer\":0,\"twoSidedLighting\":1,\"useDepthPeeling\":0,\"useShadows\":0,\"viewport\":[0.0,0.0,1.0,1.0]},\"type\":\"vtkOpenGLRenderer\"},{\"calls\":[[\"setActiveCamera\",[\"instance:${000000000819cba0}\"]]],\"dependencies\":[{\"id\":\"000000000819cba0\",\"parent\":\"db5d3a6c-b452-4f4d-9453-cda3062b2ce70000000008191c90\",\"properties\":{\"clippingRange\":[0.01,1000.01],\"focalPoint\":[0.0,0.0,0.0],\"position\":[0.0,0.0,1.0],\"viewUp\":[0.0,1.0,0.0]},\"type\":\"vtkOpenGLCamera\"}],\"id\":\"db5d3a6c-b452-4f4d-9453-cda3062b2ce70000000008191c90\",\"parent\":\"db5d3a6c-b452-4f4d-9453-cda3062b2ce70000000007cbff50\",\"properties\":{\"background\":[0.3,0.3,0.3],\"background2\":[0.2,0.2,0.2],\"clippingRangeExpansion\":0.5,\"interactive\":0,\"layer\":1,\"lightFollowCamera\":1,\"maximumNumberOfPeels\":4,\"nearClippingPlaneTolerance\":0.0,\"occlusionRatio\":0.0,\"preserveColorBuffer\":1,\"preserveDepthBuffer\":0,\"twoSidedLighting\":1,\"useDepthPeeling\":0,\"useShadows\":0,\"viewport\":[0.0,0.0,1.0,1.0]},\"type\":\"vtkOpenGLRenderer\"},{\"calls\":[[\"setActiveCamera\",[\"instance:${00000000081f7b10}\"]]],\"dependencies\":[{\"id\":\"00000000081f7b10\",\"parent\":\"db5d3a6c-b452-4f4d-9453-cda3062b2ce700000000081f0320\",\"properties\":{\"clippingRange\":[3.1784280185413722,11.13129965931104],\"focalPoint\":[0.0,0.0,0.0],\"position\":[3.8637033051562737,3.8637033051562737,3.8637033051562737],\"viewUp\":[0.0,0.0,1.0]},\"type\":\"vtkOpenGLCamera\"}],\"id\":\"db5d3a6c-b452-4f4d-9453-cda3062b2ce700000000081f0320\",\"parent\":\"db5d3a6c-b452-4f4d-9453-cda3062b2ce70000000007cbff50\",\"properties\":{\"background\":[0.0,0.0,0.0],\"background2\":[0.2,0.2,0.2],\"clippingRangeExpansion\":0.5,\"interactive\":0,\"layer\":1,\"lightFollowCamera\":1,\"maximumNumberOfPeels\":4,\"nearClippingPlaneTolerance\":0.001,\"occlusionRatio\":0.0,\"preserveColorBuffer\":1,\"preserveDepthBuffer\":0,\"twoSidedLighting\":1,\"useDepthPeeling\":0,\"useShadows\":0,\"viewport\":[0.0,0.0,0.2,0.2]},\"type\":\"vtkOpenGLRenderer\"}],\"id\":\"db5d3a6c-b452-4f4d-9453-cda3062b2ce70000000007cbff50\",\"mtime\":99368,\"parent\":\"db5d3a6c-b452-4f4d-9453-cda3062b2ce70x0\",\"properties\":{\"numberOfLayers\":2},\"type\":\"vtkXOpenGLRenderWindow\"},\"sizing_mode\":\"stretch_width\",\"width\":800},\"id\":\"1031\",\"type\":\"panel.models.vtk.VTKSynchronizedPlot\"},{\"attributes\":{\"client_comm_id\":\"13cc9f1ab2cf468cbbe1b09ac64684f4\",\"comm_id\":\"c2ea365e4d1f4b079051d74da12cb929\",\"plot_id\":\"1031\"},\"id\":\"1032\",\"type\":\"panel.models.comm_manager.CommManager\"},{\"attributes\":{},\"id\":\"1030\",\"type\":\"panel.models.vtk.VTKAxes\"}],\"root_ids\":[\"1031\",\"1032\"]},\"title\":\"Bokeh Application\",\"version\":\"2.4.1\"}};\n",
       "    var render_items = [{\"docid\":\"959d5964-3a9b-4f9d-8803-a80fb6ad6e94\",\"root_ids\":[\"1031\"],\"roots\":{\"1031\":\"3d0228e9-0324-4e84-b221-c7c7e736d2df\"}}];\n",
       "    root.Bokeh.embed.embed_items_notebook(docs_json, render_items);\n",
       "  }\n",
       "  if (root.Bokeh !== undefined && root.Bokeh.Panel !== undefined && ( root['vtk'] !== undefined)) {\n",
       "    embed_document(root);\n",
       "  } else {\n",
       "    var attempts = 0;\n",
       "    var timer = setInterval(function(root) {\n",
       "      if (root.Bokeh !== undefined && root.Bokeh.Panel !== undefined && (root['vtk'] !== undefined)) {\n",
       "        clearInterval(timer);\n",
       "        embed_document(root);\n",
       "      } else if (document.readyState == \"complete\") {\n",
       "        attempts++;\n",
       "        if (attempts > 200) {\n",
       "          clearInterval(timer);\n",
       "          console.log(\"Bokeh: ERROR: Unable to run BokehJS code because BokehJS library is missing\");\n",
       "        }\n",
       "      }\n",
       "    }, 25, root)\n",
       "  }\n",
       "})(window);</script>"
      ]
     },
     "metadata": {},
     "output_type": "display_data"
    }
   ],
   "source": [
    "vtk.plot(jupyter_backend='panel', show_edges=True, edge_color='gray', color='red', window_size=(800,600))"
   ]
  },
  {
   "cell_type": "code",
   "execution_count": null,
   "id": "cdd65069-7145-4980-ac50-cadf33e0e341",
   "metadata": {},
   "outputs": [],
   "source": []
  }
 ],
 "metadata": {
  "kernelspec": {
   "display_name": "Python 3 (ipykernel)",
   "language": "python",
   "name": "python3"
  },
  "language_info": {
   "codemirror_mode": {
    "name": "ipython",
    "version": 3
   },
   "file_extension": ".py",
   "mimetype": "text/x-python",
   "name": "python",
   "nbconvert_exporter": "python",
   "pygments_lexer": "ipython3",
   "version": "3.8.10"
  }
 },
 "nbformat": 4,
 "nbformat_minor": 5
}
