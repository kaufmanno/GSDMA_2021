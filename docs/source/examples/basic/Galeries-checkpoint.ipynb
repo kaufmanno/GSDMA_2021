{
 "cells": [
  {
   "cell_type": "code",
   "execution_count": 3,
   "id": "05fcd10a",
   "metadata": {},
   "outputs": [],
   "source": [
    "import itertools\n",
    "import numpy as np\n",
    "import pyvista as pv\n",
    "import geopandas as gpd\n",
    "from shapely import speedups\n",
    "speedups.disable()\n",
    "import flopy as fl\n",
    "import matplotlib as mplt\n",
    "import shapely\n",
    "import pyproj\n",
    "import fiona\n",
    "from geometron.geom_to_vtk import gdf_to_ug\n",
    "from shapely.geometry import Polygon\n",
    "from shapely.geometry import LineString\n",
    "from shapely.geometry import Point\n",
    "import pyacvd"
   ]
  },
  {
   "cell_type": "code",
   "execution_count": 4,
   "id": "0efc4b1e",
   "metadata": {},
   "outputs": [],
   "source": [
    "gdg = gpd.read_file(r'C:\\Users\\melan\\OneDrive\\Documents\\Ma2 Mines\\TFE\\Qgis\\Galeries1.shp')"
   ]
  },
  {
   "cell_type": "code",
   "execution_count": 5,
   "id": "fd862e13",
   "metadata": {},
   "outputs": [
    {
     "data": {
      "text/html": [
       "<div>\n",
       "<style scoped>\n",
       "    .dataframe tbody tr th:only-of-type {\n",
       "        vertical-align: middle;\n",
       "    }\n",
       "\n",
       "    .dataframe tbody tr th {\n",
       "        vertical-align: top;\n",
       "    }\n",
       "\n",
       "    .dataframe thead th {\n",
       "        text-align: right;\n",
       "    }\n",
       "</style>\n",
       "<table border=\"1\" class=\"dataframe\">\n",
       "  <thead>\n",
       "    <tr style=\"text-align: right;\">\n",
       "      <th></th>\n",
       "      <th>fid</th>\n",
       "      <th>Type</th>\n",
       "      <th>Profondeur</th>\n",
       "      <th>geometry</th>\n",
       "    </tr>\n",
       "  </thead>\n",
       "  <tbody>\n",
       "    <tr>\n",
       "      <th>0</th>\n",
       "      <td>1.0</td>\n",
       "      <td>Bouveau</td>\n",
       "      <td>742</td>\n",
       "      <td>LINESTRING Z (155464.833 123113.940 -742.000, ...</td>\n",
       "    </tr>\n",
       "    <tr>\n",
       "      <th>1</th>\n",
       "      <td>2.0</td>\n",
       "      <td>Bouveau</td>\n",
       "      <td>893</td>\n",
       "      <td>LINESTRING Z (154508.911 123546.899 -729.200, ...</td>\n",
       "    </tr>\n",
       "    <tr>\n",
       "      <th>2</th>\n",
       "      <td>3.0</td>\n",
       "      <td>Bouveau</td>\n",
       "      <td>860</td>\n",
       "      <td>LINESTRING Z (154580.524 123524.574 -726.400, ...</td>\n",
       "    </tr>\n",
       "    <tr>\n",
       "      <th>3</th>\n",
       "      <td>4.0</td>\n",
       "      <td>Bouveau</td>\n",
       "      <td>860</td>\n",
       "      <td>LINESTRING Z (154487.406 123649.737 -732.000, ...</td>\n",
       "    </tr>\n",
       "    <tr>\n",
       "      <th>4</th>\n",
       "      <td>5.0</td>\n",
       "      <td>Lien bouveau</td>\n",
       "      <td>860</td>\n",
       "      <td>LINESTRING Z (154574.791 123702.097 -839.770, ...</td>\n",
       "    </tr>\n",
       "  </tbody>\n",
       "</table>\n",
       "</div>"
      ],
      "text/plain": [
       "   fid          Type  Profondeur  \\\n",
       "0  1.0       Bouveau         742   \n",
       "1  2.0       Bouveau         893   \n",
       "2  3.0       Bouveau         860   \n",
       "3  4.0       Bouveau         860   \n",
       "4  5.0  Lien bouveau         860   \n",
       "\n",
       "                                            geometry  \n",
       "0  LINESTRING Z (155464.833 123113.940 -742.000, ...  \n",
       "1  LINESTRING Z (154508.911 123546.899 -729.200, ...  \n",
       "2  LINESTRING Z (154580.524 123524.574 -726.400, ...  \n",
       "3  LINESTRING Z (154487.406 123649.737 -732.000, ...  \n",
       "4  LINESTRING Z (154574.791 123702.097 -839.770, ...  "
      ]
     },
     "execution_count": 5,
     "metadata": {},
     "output_type": "execute_result"
    }
   ],
   "source": [
    "gdg.head()"
   ]
  },
  {
   "cell_type": "code",
   "execution_count": 6,
   "id": "c1f07ac9",
   "metadata": {},
   "outputs": [],
   "source": [
    "row = gdg.loc[0,:]\n",
    "row1= gdg.loc[1,:]\n",
    "row2= gdg.loc[2,:]\n",
    "row3= gdg.loc[3,:]\n",
    "row4= gdg.loc[4,:]"
   ]
  },
  {
   "cell_type": "code",
   "execution_count": 7,
   "id": "9ced053e",
   "metadata": {},
   "outputs": [
    {
     "data": {
      "text/plain": [
       "fid                                                         1.0\n",
       "Type                                                    Bouveau\n",
       "Profondeur                                                  742\n",
       "geometry      LINESTRING Z (155464.8334205756 123113.9404486...\n",
       "Name: 0, dtype: object"
      ]
     },
     "execution_count": 7,
     "metadata": {},
     "output_type": "execute_result"
    }
   ],
   "source": [
    "row"
   ]
  },
  {
   "cell_type": "code",
   "execution_count": 8,
   "id": "6d544ea2",
   "metadata": {},
   "outputs": [
    {
     "data": {
      "image/svg+xml": [
       "<svg xmlns=\"http://www.w3.org/2000/svg\" xmlns:xlink=\"http://www.w3.org/1999/xlink\" width=\"100.0\" height=\"206.41151780574\" viewBox=\"155415.9049127882 123106.2955775706 56.57337881720741 206.41151780574\" preserveAspectRatio=\"xMinYMin meet\"><g transform=\"matrix(1,0,0,-1,0,246419.00267294695)\"><polyline fill=\"none\" stroke=\"#66cc99\" stroke-width=\"2.0\" points=\"155464.83342057557,123113.94044860045 155464.42942168374,123123.87882133912 155464.42942168374,123129.49440593536 155463.80322340137,123160.74372021732 155461.71252913628,123176.40877724744 155453.88000062114,123188.92264292149 155446.54742073466,123195.80072405466 155424.73148057653,123225.07044376679 155423.54978381802,123261.36974419653 155424.76178049346,123305.0622243465\" opacity=\"0.8\" /></g></svg>"
      ],
      "text/plain": [
       "<shapely.geometry.linestring.LineString at 0x1f54f829bb0>"
      ]
     },
     "execution_count": 8,
     "metadata": {},
     "output_type": "execute_result"
    }
   ],
   "source": [
    "row.geometry"
   ]
  },
  {
   "cell_type": "code",
   "execution_count": 9,
   "id": "0fc82c02",
   "metadata": {},
   "outputs": [],
   "source": [
    "coords = np.array(row.geometry.coords)\n",
    "coords1 = np.array(row1.geometry.coords)\n",
    "coords2 = np.array(row2.geometry.coords)\n",
    "coords3 = np.array(row3.geometry.coords)\n",
    "coords4 = np.array(row4.geometry.coords)\n"
   ]
  },
  {
   "cell_type": "code",
   "execution_count": 10,
   "id": "ff842ac8",
   "metadata": {},
   "outputs": [
    {
     "data": {
      "application/vnd.jupyter.widget-view+json": {
       "model_id": "dfb7f649351442b096e66434a33ad7cd",
       "version_major": 2,
       "version_minor": 0
      },
      "text/plain": [
       "ViewInteractiveWidget(height=768, layout=Layout(height='auto', width='100%'), width=1024)"
      ]
     },
     "metadata": {},
     "output_type": "display_data"
    }
   ],
   "source": [
    "r=5\n",
    "spline = pv.Spline(coords)\n",
    "spline1 = pv.Spline(coords1)\n",
    "spline2 = pv.Spline(coords2)\n",
    "spline3 = pv.Spline(coords3)\n",
    "spline4 = pv.Spline(coords4)\n",
    "tube = spline.tube(radius=r)\n",
    "tube1 = spline1.tube(radius=r)\n",
    "tube2 = spline2.tube(radius=r)\n",
    "tube3 = spline3.tube(radius=r)\n",
    "tube4 = spline4.tube(radius=r)\n",
    "tube.plot()\n",
    "tube.save(r'C:\\Users\\melan\\OneDrive\\Documents\\Ma2 Mines\\TFE\\Qgis\\galery.vtk',binary=False)"
   ]
  },
  {
   "cell_type": "code",
   "execution_count": 11,
   "id": "a8455a7c",
   "metadata": {},
   "outputs": [
    {
     "data": {
      "application/vnd.jupyter.widget-view+json": {
       "model_id": "fad53bc99f914fa18d9352906de285b8",
       "version_major": 2,
       "version_minor": 0
      },
      "text/plain": [
       "ViewInteractiveWidget(height=768, layout=Layout(height='auto', width='100%'), width=1024)"
      ]
     },
     "metadata": {},
     "output_type": "display_data"
    }
   ],
   "source": [
    "blocksg = pv.MultiBlock()\n",
    "\n",
    "data=[tube, tube1, tube2, tube3, tube4]\n",
    "blocksg = pv.MultiBlock(data)\n",
    "blocksg.plot()\n",
    "blocksg.save(r'C:\\Users\\melan\\OneDrive\\Documents\\Ma2 Mines\\TFE\\Qgis\\galeries.vtm',binary=False)"
   ]
  }
 ],
 "metadata": {
  "kernelspec": {
   "display_name": "Python 3 (ipykernel)",
   "language": "python",
   "name": "python3"
  },
  "language_info": {
   "codemirror_mode": {
    "name": "ipython",
    "version": 3
   },
   "file_extension": ".py",
   "mimetype": "text/x-python",
   "name": "python",
   "nbconvert_exporter": "python",
   "pygments_lexer": "ipython3",
   "version": "3.8.8"
  }
 },
 "nbformat": 4,
 "nbformat_minor": 5
}
