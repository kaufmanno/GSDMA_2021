{
 "cells": [
  {
   "cell_type": "code",
   "execution_count": 1,
   "id": "afab103e",
   "metadata": {},
   "outputs": [],
   "source": [
    "import itertools\n",
    "import numpy as np\n",
    "import pyvista as pv\n",
    "import geopandas as gpd\n",
    "from shapely import speedups\n",
    "speedups.disable()\n",
    "import flopy as fl\n",
    "import matplotlib as mplt\n",
    "import shapely\n",
    "import pyproj\n",
    "import fiona\n",
    "from geometron.geom_to_vtk import gdf_to_ug\n",
    "from shapely.geometry import Polygon\n",
    "from shapely.geometry import LineString\n",
    "from shapely.geometry import Point\n",
    "import pyacvd"
   ]
  },
  {
   "cell_type": "code",
   "execution_count": 3,
   "id": "f99b97ef",
   "metadata": {},
   "outputs": [
    {
     "data": {
      "text/html": [
       "<div>\n",
       "<style scoped>\n",
       "    .dataframe tbody tr th:only-of-type {\n",
       "        vertical-align: middle;\n",
       "    }\n",
       "\n",
       "    .dataframe tbody tr th {\n",
       "        vertical-align: top;\n",
       "    }\n",
       "\n",
       "    .dataframe thead th {\n",
       "        text-align: right;\n",
       "    }\n",
       "</style>\n",
       "<table border=\"1\" class=\"dataframe\">\n",
       "  <thead>\n",
       "    <tr style=\"text-align: right;\">\n",
       "      <th></th>\n",
       "      <th>Type</th>\n",
       "      <th>Profondeur</th>\n",
       "      <th>geometry</th>\n",
       "    </tr>\n",
       "  </thead>\n",
       "  <tbody>\n",
       "    <tr>\n",
       "      <th>0</th>\n",
       "      <td>Bouveau</td>\n",
       "      <td>742</td>\n",
       "      <td>LINESTRING Z (155464.833 123113.940 -742.000, ...</td>\n",
       "    </tr>\n",
       "    <tr>\n",
       "      <th>1</th>\n",
       "      <td>Bouveau</td>\n",
       "      <td>893</td>\n",
       "      <td>LINESTRING Z (154508.911 123546.899 -729.200, ...</td>\n",
       "    </tr>\n",
       "    <tr>\n",
       "      <th>2</th>\n",
       "      <td>Bouveau</td>\n",
       "      <td>860</td>\n",
       "      <td>LINESTRING Z (154580.524 123524.574 -726.400, ...</td>\n",
       "    </tr>\n",
       "    <tr>\n",
       "      <th>3</th>\n",
       "      <td>Bouveau</td>\n",
       "      <td>860</td>\n",
       "      <td>LINESTRING Z (154487.406 123649.737 -732.000, ...</td>\n",
       "    </tr>\n",
       "    <tr>\n",
       "      <th>4</th>\n",
       "      <td>Lien bouveau</td>\n",
       "      <td>860</td>\n",
       "      <td>LINESTRING Z (154574.791 123702.097 -762.000, ...</td>\n",
       "    </tr>\n",
       "  </tbody>\n",
       "</table>\n",
       "</div>"
      ],
      "text/plain": [
       "            Type  Profondeur   \\\n",
       "0        Bouveau          742   \n",
       "1        Bouveau          893   \n",
       "2        Bouveau          860   \n",
       "3       Bouveau           860   \n",
       "4  Lien bouveau           860   \n",
       "\n",
       "                                            geometry  \n",
       "0  LINESTRING Z (155464.833 123113.940 -742.000, ...  \n",
       "1  LINESTRING Z (154508.911 123546.899 -729.200, ...  \n",
       "2  LINESTRING Z (154580.524 123524.574 -726.400, ...  \n",
       "3  LINESTRING Z (154487.406 123649.737 -732.000, ...  \n",
       "4  LINESTRING Z (154574.791 123702.097 -762.000, ...  "
      ]
     },
     "execution_count": 3,
     "metadata": {},
     "output_type": "execute_result"
    }
   ],
   "source": [
    "gdg = gpd.read_file(r'C:\\Users\\melan\\OneDrive\\Documents\\Ma2 Mines\\TFE\\Qgis\\Galeries .gpkg')\n",
    "gdg.head()"
   ]
  },
  {
   "cell_type": "code",
   "execution_count": 4,
   "id": "a0e04542",
   "metadata": {},
   "outputs": [],
   "source": [
    "gdg['radius']=2.5"
   ]
  },
  {
   "cell_type": "code",
   "execution_count": 5,
   "id": "21de01d1",
   "metadata": {},
   "outputs": [
    {
     "data": {
      "application/vnd.jupyter.widget-view+json": {
       "model_id": "9fdd1d76de524d388b0da8cbf41ebbb0",
       "version_major": 2,
       "version_minor": 0
      },
      "text/plain": [
       "ViewInteractiveWidget(height=768, layout=Layout(height='auto', width='100%'), width=1024)"
      ]
     },
     "metadata": {},
     "output_type": "display_data"
    }
   ],
   "source": [
    "galeries = []\n",
    "\n",
    "for idx, row in gdg.iterrows():\n",
    "    vertices = np.array(row['geometry'].coords)\n",
    "    line = pv.Spline(vertices)\n",
    "    galeries.append(line.tube(radius = row['radius']))\n",
    "    b = pv.MultiBlock(galeries)\n",
    "    \n",
    "b.plot()  \n",
    "b.save(r'C:\\Users\\melan\\OneDrive\\Documents\\Ma2 Mines\\TFE\\Qgis\\galeries.vtm',binary=False)"
   ]
  }
 ],
 "metadata": {
  "kernelspec": {
   "display_name": "Python 3 (ipykernel)",
   "language": "python",
   "name": "python3"
  },
  "language_info": {
   "codemirror_mode": {
    "name": "ipython",
    "version": 3
   },
   "file_extension": ".py",
   "mimetype": "text/x-python",
   "name": "python",
   "nbconvert_exporter": "python",
   "pygments_lexer": "ipython3",
   "version": "3.8.8"
  }
 },
 "nbformat": 4,
 "nbformat_minor": 5
}
