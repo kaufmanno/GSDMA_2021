{
 "cells": [
  {
   "cell_type": "markdown",
   "metadata": {},
   "source": [
    "# Creating galleries from Linestring"
   ]
  },
  {
   "cell_type": "code",
   "execution_count": 1,
   "metadata": {},
   "outputs": [
    {
     "name": "stderr",
     "output_type": "stream",
     "text": [
      "/home/gfa/.local/share/virtualenvs/GSDMA_2021-c2IPe6cS/lib/python3.8/site-packages/geopandas/_compat.py:111: UserWarning: The Shapely GEOS version (3.9.1-CAPI-1.14.2) is incompatible with the GEOS version PyGEOS was compiled with (3.10.1-CAPI-1.16.0). Conversions between both will be slow.\n",
      "  warnings.warn(\n"
     ]
    }
   ],
   "source": [
    "import itertools\n",
    "import numpy as np\n",
    "import pyvista as pv\n",
    "import geopandas as gpd\n",
    "from shapely import speedups\n",
    "speedups.disable()\n",
    "import flopy as fl\n",
    "import matplotlib as mplt\n",
    "import shapely\n",
    "import pyproj\n",
    "import fiona\n",
    "from geometron.geom_to_vtk import gdf_to_ug\n",
    "from shapely.geometry import Polygon\n",
    "from shapely.geometry import LineString\n",
    "from shapely.geometry import Point\n",
    "import pyacvd"
   ]
  },
  {
   "cell_type": "markdown",
   "metadata": {},
   "source": [
    "Importation of Geopackage"
   ]
  },
  {
   "cell_type": "code",
   "execution_count": 2,
   "metadata": {},
   "outputs": [
    {
     "data": {
      "text/html": [
       "<div>\n",
       "<style scoped>\n",
       "    .dataframe tbody tr th:only-of-type {\n",
       "        vertical-align: middle;\n",
       "    }\n",
       "\n",
       "    .dataframe tbody tr th {\n",
       "        vertical-align: top;\n",
       "    }\n",
       "\n",
       "    .dataframe thead th {\n",
       "        text-align: right;\n",
       "    }\n",
       "</style>\n",
       "<table border=\"1\" class=\"dataframe\">\n",
       "  <thead>\n",
       "    <tr style=\"text-align: right;\">\n",
       "      <th></th>\n",
       "      <th>Type</th>\n",
       "      <th>Profondeur</th>\n",
       "      <th>geometry</th>\n",
       "    </tr>\n",
       "  </thead>\n",
       "  <tbody>\n",
       "    <tr>\n",
       "      <th>0</th>\n",
       "      <td>Bouveau</td>\n",
       "      <td>742.0</td>\n",
       "      <td>LINESTRING Z (155464.833 123113.940 -614.100, ...</td>\n",
       "    </tr>\n",
       "    <tr>\n",
       "      <th>1</th>\n",
       "      <td>Bouveau</td>\n",
       "      <td>893.0</td>\n",
       "      <td>LINESTRING Z (154508.911 123546.899 -729.200, ...</td>\n",
       "    </tr>\n",
       "    <tr>\n",
       "      <th>2</th>\n",
       "      <td>Bouveau</td>\n",
       "      <td>860.0</td>\n",
       "      <td>LINESTRING Z (154580.524 123524.574 -726.400, ...</td>\n",
       "    </tr>\n",
       "    <tr>\n",
       "      <th>3</th>\n",
       "      <td>Bouveau</td>\n",
       "      <td>860.0</td>\n",
       "      <td>LINESTRING Z (154487.406 123649.737 -732.000, ...</td>\n",
       "    </tr>\n",
       "    <tr>\n",
       "      <th>4</th>\n",
       "      <td>Lien bouveau</td>\n",
       "      <td>860.0</td>\n",
       "      <td>LINESTRING Z (154574.791 123702.097 -762.000, ...</td>\n",
       "    </tr>\n",
       "  </tbody>\n",
       "</table>\n",
       "</div>"
      ],
      "text/plain": [
       "            Type  Profondeur   \\\n",
       "0        Bouveau        742.0   \n",
       "1        Bouveau        893.0   \n",
       "2        Bouveau        860.0   \n",
       "3       Bouveau         860.0   \n",
       "4  Lien bouveau         860.0   \n",
       "\n",
       "                                            geometry  \n",
       "0  LINESTRING Z (155464.833 123113.940 -614.100, ...  \n",
       "1  LINESTRING Z (154508.911 123546.899 -729.200, ...  \n",
       "2  LINESTRING Z (154580.524 123524.574 -726.400, ...  \n",
       "3  LINESTRING Z (154487.406 123649.737 -732.000, ...  \n",
       "4  LINESTRING Z (154574.791 123702.097 -762.000, ...  "
      ]
     },
     "execution_count": 2,
     "metadata": {},
     "output_type": "execute_result"
    }
   ],
   "source": [
    "gdg = gpd.read_file('../../../../data/Galeries .gpkg')\n",
    "gdg.head()"
   ]
  },
  {
   "cell_type": "markdown",
   "metadata": {},
   "source": [
    "Definition of the radius of the tubes of the galleries"
   ]
  },
  {
   "cell_type": "code",
   "execution_count": 3,
   "metadata": {},
   "outputs": [],
   "source": [
    "gdg['radius']=2.5"
   ]
  },
  {
   "cell_type": "markdown",
   "metadata": {},
   "source": [
    "For each line of the geodataframe, a loop returns the coordinates of the gallery points. \n",
    "A spline is created for each group of points. \n",
    "This spline is then transformed into a tube."
   ]
  },
  {
   "cell_type": "code",
   "execution_count": null,
   "metadata": {
    "nbsphinx-thumbnail": {
     "tooltip": "This tooltip message was defined in cell metadata"
    }
   },
   "outputs": [],
   "source": [
    "galeries = []\n",
    "\n",
    "for idx, row in gdg.iterrows():\n",
    "    vertices = np.array(row['geometry'].coords)\n",
    "    line = pv.Spline(vertices)\n",
    "    galeries.append(line.tube(radius = row['radius']))\n",
    "    b = pv.MultiBlock(galeries)\n",
    "    \n",
    "b.plot()  \n",
    "b.save(r'C:\\Users\\melan\\OneDrive\\Documents\\Ma2 Mines\\TFE\\Qgis\\galeries.vtm',binary=False)"
   ]
  },
  {
   "cell_type": "markdown",
   "metadata": {},
   "source": [
    "A vtm file is exported in order to be able to better visualize in the Paraview software"
   ]
  }
 ],
 "metadata": {
  "celltoolbar": "Éditer les Méta-Données",
  "kernelspec": {
   "display_name": "Python 3",
   "language": "python",
   "name": "python3"
  },
  "language_info": {
   "codemirror_mode": {
    "name": "ipython",
    "version": 3
   },
   "file_extension": ".py",
   "mimetype": "text/x-python",
   "name": "python",
   "nbconvert_exporter": "python",
   "pygments_lexer": "ipython3",
   "version": "3.6.9"
  }
 },
 "nbformat": 4,
 "nbformat_minor": 5
}
