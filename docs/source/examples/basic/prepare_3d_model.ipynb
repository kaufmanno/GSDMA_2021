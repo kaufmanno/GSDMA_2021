{
 "cells": [
  {
   "cell_type": "markdown",
   "metadata": {},
   "source": [
    "# Prepare data to build a 3D model\n",
    "## Load dataset, prepare the geo_model and visualize data\n",
    "Kristiaan JOSEPH and Olivier KAUFMANN, 2020"
   ]
  },
  {
   "cell_type": "code",
   "execution_count": 1,
   "metadata": {},
   "outputs": [],
   "source": [
    "%matplotlib inline\n",
    "import geopandas as gpd\n",
    "import gempy as gp\n",
    "import numpy as np\n",
    "import pandas as pd\n",
    "import matplotlib.pyplot as plt"
   ]
  },
  {
   "cell_type": "code",
   "execution_count": 2,
   "metadata": {},
   "outputs": [
    {
     "data": {
      "text/plain": [
       "'2.2.9'"
      ]
     },
     "execution_count": 2,
     "metadata": {},
     "output_type": "execute_result"
    }
   ],
   "source": [
    "gp.__version__"
   ]
  },
  {
   "cell_type": "code",
   "execution_count": 3,
   "metadata": {},
   "outputs": [],
   "source": [
    "gdf = gpd.read_file('../../../../data/Parties exploitées - Caillette.gpkg', layer = 'Parties exploitées - Caillette')"
   ]
  },
  {
   "cell_type": "code",
   "execution_count": 4,
   "metadata": {},
   "outputs": [],
   "source": [
    "def polygon_gdf_to_points_gdf(gdf, columns=[]):\n",
    "    geo_interface = {\"type\": \"FeatureCollection\"}\n",
    "    features = []\n",
    "    bbox = (gdf.iloc[:]['geometry'].bounds.minx.min(), gdf.iloc[:]['geometry'].bounds.maxx.max(), gdf.iloc[:]['geometry'].bounds.miny.min(), gdf.iloc[:]['geometry'].bounds.maxy.max())\n",
    "    geo_interface[\"bbox\"] = bbox\n",
    "    point_id = 0\n",
    "    for idx, row in gdf.iterrows():\n",
    "        polygon = row['geometry']    \n",
    "        vertices = np.array(polygon.exterior.coords[:])\n",
    "        for j in range(vertices.shape[1]):\n",
    "            properties = {p : row[p] for p in columns}\n",
    "            pt = {\"id\": f'{point_id}', \"type\": \"Feature\", \"properties\": properties,\n",
    "                 \"geometry\": {\"type\": \"Point\", \"coordinates\": tuple(vertices[j,:])},\n",
    "                 }\n",
    "            features.append(pt)\n",
    "            point_id += 1\n",
    "    geo_interface[\"features\"] = features\n",
    "\n",
    "    return gpd.GeoDataFrame.from_features(geo_interface)"
   ]
  },
  {
   "cell_type": "code",
   "execution_count": 5,
   "metadata": {},
   "outputs": [],
   "source": [
    "surface_points_gdf = polygon_gdf_to_points_gdf(gdf, columns=['Couche ', 'Année'])"
   ]
  },
  {
   "cell_type": "code",
   "execution_count": 6,
   "metadata": {},
   "outputs": [],
   "source": [
    "surface_points_gdf['X'] = surface_points_gdf['geometry'].apply(lambda geom: geom.x)\n",
    "surface_points_gdf['Y'] = surface_points_gdf['geometry'].apply(lambda geom: geom.y)\n",
    "surface_points_gdf['Z'] = surface_points_gdf['geometry'].apply(lambda geom: geom.z)"
   ]
  },
  {
   "cell_type": "code",
   "execution_count": 7,
   "metadata": {},
   "outputs": [],
   "source": [
    "surface_points_gdf.drop('Année', axis=1, inplace=True)\n",
    "surface_points_gdf.rename(columns={'Couche ': 'formation'}, inplace=True)"
   ]
  },
  {
   "cell_type": "code",
   "execution_count": 8,
   "metadata": {},
   "outputs": [],
   "source": [
    "surface_points_df = pd.DataFrame(surface_points_gdf[['X', 'Y', 'Z', 'formation']])"
   ]
  },
  {
   "cell_type": "code",
   "execution_count": 9,
   "metadata": {},
   "outputs": [],
   "source": [
    "surface_points_df.to_csv('./tmp_files/surface_points.csv')"
   ]
  },
  {
   "cell_type": "code",
   "execution_count": 4,
   "metadata": {},
   "outputs": [],
   "source": [
    "data_path= './tmp_file/'\n",
    "orientations_file = data_path + 'orientations.csv'\n",
    "surface_points_file = data_path + 'surface_points.csv'\n",
    "strat_pile_file = data_path + 'strat_pile.csv'\n",
    "model_extent = [0.,100.,0.,100.,0.,60.]\n",
    "model_resolution = [50, 50, 30]"
   ]
  },
  {
   "cell_type": "code",
   "execution_count": 5,
   "metadata": {},
   "outputs": [
    {
     "name": "stdout",
     "output_type": "stream",
     "text": [
      "Active grids: ['regular']\n"
     ]
    }
   ],
   "source": [
    "# Importing the data from CSV-files and setting extent and resolution\n",
    "geo_data = gp.create_data('test', model_extent, model_resolution, \n",
    "      path_o = orientations_file,\n",
    "      path_i = surface_points_file, default_values=True); "
   ]
  },
  {
   "cell_type": "code",
   "execution_count": 6,
   "metadata": {},
   "outputs": [
    {
     "name": "stdout",
     "output_type": "stream",
     "text": [
      "[ 20 60 30 70 10 50 ]\n"
     ]
    }
   ],
   "source": [
    "min_X = min(geo_data.surface_points.df['X'].min(), geo_data.orientations.df['X'].min())\n",
    "max_X = max(geo_data.surface_points.df['X'].max(), geo_data.orientations.df['X'].max())\n",
    "min_Y = min(geo_data.surface_points.df['Y'].min(), geo_data.orientations.df['Y'].min())\n",
    "max_Y = max(geo_data.surface_points.df['Y'].max(), geo_data.orientations.df['Y'].max())\n",
    "min_Z = min(geo_data.surface_points.df['Z'].min(), geo_data.orientations.df['Z'].min())\n",
    "max_Z = max(geo_data.surface_points.df['Z'].max(), geo_data.orientations.df['Z'].max())\n",
    "print('[', min_X+10, max_X+10, min_Y+10, max_Y+10, min_Z, max_Z+10,']')"
   ]
  },
  {
   "cell_type": "code",
   "execution_count": 7,
   "metadata": {},
   "outputs": [
    {
     "data": {
      "text/plain": [
       "test  2021-10-23 10:55"
      ]
     },
     "execution_count": 7,
     "metadata": {},
     "output_type": "execute_result"
    }
   ],
   "source": [
    "geo_data"
   ]
  },
  {
   "cell_type": "markdown",
   "metadata": {},
   "source": [
    "random topography"
   ]
  },
  {
   "cell_type": "code",
   "execution_count": 8,
   "metadata": {},
   "outputs": [
    {
     "name": "stdout",
     "output_type": "stream",
     "text": [
      "Active grids: ['regular' 'topography']\n"
     ]
    },
    {
     "data": {
      "text/plain": [
       "Grid Object. Values: \n",
       "array([[  1.        ,   1.        ,   1.        ],\n",
       "       [  1.        ,   1.        ,   3.        ],\n",
       "       [  1.        ,   1.        ,   5.        ],\n",
       "       ...,\n",
       "       [100.        ,  95.91836735,  34.01386585],\n",
       "       [100.        ,  97.95918367,  34.91944182],\n",
       "       [100.        , 100.        ,  35.84198637]])"
      ]
     },
     "execution_count": 8,
     "metadata": {},
     "output_type": "execute_result"
    }
   ],
   "source": [
    "geo_data.set_topography(d_z=np.array([20., 50.]), fd=1.8)"
   ]
  },
  {
   "cell_type": "code",
   "execution_count": 9,
   "metadata": {},
   "outputs": [],
   "source": [
    "geo_data._grid.topography.save('topo.npy')"
   ]
  },
  {
   "cell_type": "markdown",
   "metadata": {},
   "source": [
    "simple flat topography"
   ]
  },
  {
   "cell_type": "code",
   "execution_count": 10,
   "metadata": {},
   "outputs": [
    {
     "data": {
      "text/plain": [
       "(50, 50, 3)"
      ]
     },
     "execution_count": 10,
     "metadata": {},
     "output_type": "execute_result"
    }
   ],
   "source": [
    "topo = np.load('topo.npy')\n",
    "topo.shape"
   ]
  },
  {
   "cell_type": "code",
   "execution_count": 11,
   "metadata": {},
   "outputs": [],
   "source": [
    "for i in range(model_resolution[0]):\n",
    "    for j in range(model_resolution[1]):\n",
    "        topo[i,j,2] = 40.-i/5.\n",
    "np.save('topo.npy', topo)"
   ]
  },
  {
   "cell_type": "code",
   "execution_count": 12,
   "metadata": {},
   "outputs": [
    {
     "name": "stdout",
     "output_type": "stream",
     "text": [
      "Active grids: ['regular' 'topography']\n"
     ]
    },
    {
     "data": {
      "text/plain": [
       "Grid Object. Values: \n",
       "array([[  1.        ,   1.        ,   1.        ],\n",
       "       [  1.        ,   1.        ,   3.        ],\n",
       "       [  1.        ,   1.        ,   5.        ],\n",
       "       ...,\n",
       "       [100.        ,  95.91836735,  30.2       ],\n",
       "       [100.        ,  97.95918367,  30.2       ],\n",
       "       [100.        , 100.        ,  30.2       ]])"
      ]
     },
     "execution_count": 12,
     "metadata": {},
     "output_type": "execute_result"
    }
   ],
   "source": [
    "geo_data.set_topography(source='numpy', array=topo)"
   ]
  },
  {
   "cell_type": "code",
   "execution_count": 13,
   "metadata": {},
   "outputs": [
    {
     "data": {
      "text/html": [
       "<table border=\"1\" class=\"dataframe\">\n",
       "  <thead>\n",
       "    <tr style=\"text-align: right;\">\n",
       "      <th></th>\n",
       "      <th>order_series</th>\n",
       "      <th>BottomRelation</th>\n",
       "      <th>isActive</th>\n",
       "      <th>isFault</th>\n",
       "      <th>isFinite</th>\n",
       "    </tr>\n",
       "  </thead>\n",
       "  <tbody>\n",
       "    <tr>\n",
       "      <th>Default series</th>\n",
       "      <td>1</td>\n",
       "      <td>Erosion</td>\n",
       "      <td>True</td>\n",
       "      <td>False</td>\n",
       "      <td>False</td>\n",
       "    </tr>\n",
       "    <tr>\n",
       "      <th>Basement</th>\n",
       "      <td>2</td>\n",
       "      <td>Erosion</td>\n",
       "      <td>False</td>\n",
       "      <td>False</td>\n",
       "      <td>False</td>\n",
       "    </tr>\n",
       "  </tbody>\n",
       "</table>"
      ],
      "text/plain": [
       "                order_series BottomRelation  isActive  isFault  isFinite\n",
       "Default series             1        Erosion      True    False     False\n",
       "Basement                   2        Erosion     False    False     False"
      ]
     },
     "execution_count": 13,
     "metadata": {},
     "output_type": "execute_result"
    }
   ],
   "source": [
    "geo_data.series"
   ]
  },
  {
   "cell_type": "code",
   "execution_count": 14,
   "metadata": {},
   "outputs": [
    {
     "data": {
      "text/html": [
       "<style type=\"text/css\">\n",
       "#T_edf08_row0_col3 {\n",
       "  background-color: #015482;\n",
       "}\n",
       "#T_edf08_row1_col3 {\n",
       "  background-color: #9f0052;\n",
       "}\n",
       "#T_edf08_row2_col3 {\n",
       "  background-color: #ffbe00;\n",
       "}\n",
       "</style>\n",
       "<table id=\"T_edf08_\">\n",
       "  <thead>\n",
       "    <tr>\n",
       "      <th class=\"blank level0\" >&nbsp;</th>\n",
       "      <th class=\"col_heading level0 col0\" >surface</th>\n",
       "      <th class=\"col_heading level0 col1\" >series</th>\n",
       "      <th class=\"col_heading level0 col2\" >order_surfaces</th>\n",
       "      <th class=\"col_heading level0 col3\" >color</th>\n",
       "      <th class=\"col_heading level0 col4\" >id</th>\n",
       "    </tr>\n",
       "  </thead>\n",
       "  <tbody>\n",
       "    <tr>\n",
       "      <th id=\"T_edf08_level0_row0\" class=\"row_heading level0 row0\" >0</th>\n",
       "      <td id=\"T_edf08_row0_col0\" class=\"data row0 col0\" >A</td>\n",
       "      <td id=\"T_edf08_row0_col1\" class=\"data row0 col1\" >Default series</td>\n",
       "      <td id=\"T_edf08_row0_col2\" class=\"data row0 col2\" >1</td>\n",
       "      <td id=\"T_edf08_row0_col3\" class=\"data row0 col3\" >#015482</td>\n",
       "      <td id=\"T_edf08_row0_col4\" class=\"data row0 col4\" >1</td>\n",
       "    </tr>\n",
       "    <tr>\n",
       "      <th id=\"T_edf08_level0_row1\" class=\"row_heading level0 row1\" >1</th>\n",
       "      <td id=\"T_edf08_row1_col0\" class=\"data row1 col0\" >B</td>\n",
       "      <td id=\"T_edf08_row1_col1\" class=\"data row1 col1\" >Default series</td>\n",
       "      <td id=\"T_edf08_row1_col2\" class=\"data row1 col2\" >2</td>\n",
       "      <td id=\"T_edf08_row1_col3\" class=\"data row1 col3\" >#9f0052</td>\n",
       "      <td id=\"T_edf08_row1_col4\" class=\"data row1 col4\" >2</td>\n",
       "    </tr>\n",
       "    <tr>\n",
       "      <th id=\"T_edf08_level0_row2\" class=\"row_heading level0 row2\" >2</th>\n",
       "      <td id=\"T_edf08_row2_col0\" class=\"data row2 col0\" >basement</td>\n",
       "      <td id=\"T_edf08_row2_col1\" class=\"data row2 col1\" >Basement</td>\n",
       "      <td id=\"T_edf08_row2_col2\" class=\"data row2 col2\" >1</td>\n",
       "      <td id=\"T_edf08_row2_col3\" class=\"data row2 col3\" >#ffbe00</td>\n",
       "      <td id=\"T_edf08_row2_col4\" class=\"data row2 col4\" >3</td>\n",
       "    </tr>\n",
       "  </tbody>\n",
       "</table>\n"
      ],
      "text/plain": [
       "    surface          series  order_surfaces    color  id\n",
       "0         A  Default series               1  #015482   1\n",
       "1         B  Default series               2  #9f0052   2\n",
       "2  basement        Basement               1  #ffbe00   3"
      ]
     },
     "execution_count": 14,
     "metadata": {},
     "output_type": "execute_result"
    }
   ],
   "source": [
    "gp.map_series_to_surfaces(geo_data, {\"Strat_Series\": ('Default series')})"
   ]
  },
  {
   "cell_type": "code",
   "execution_count": 15,
   "metadata": {},
   "outputs": [
    {
     "data": {
      "text/html": [
       "<style type=\"text/css\">\n",
       "#T_9bf80_row0_col3 {\n",
       "  background-color: #015482;\n",
       "}\n",
       "#T_9bf80_row1_col3 {\n",
       "  background-color: #9f0052;\n",
       "}\n",
       "#T_9bf80_row2_col3 {\n",
       "  background-color: #ffbe00;\n",
       "}\n",
       "</style>\n",
       "<table id=\"T_9bf80_\">\n",
       "  <thead>\n",
       "    <tr>\n",
       "      <th class=\"blank level0\" >&nbsp;</th>\n",
       "      <th class=\"col_heading level0 col0\" >surface</th>\n",
       "      <th class=\"col_heading level0 col1\" >series</th>\n",
       "      <th class=\"col_heading level0 col2\" >order_surfaces</th>\n",
       "      <th class=\"col_heading level0 col3\" >color</th>\n",
       "      <th class=\"col_heading level0 col4\" >id</th>\n",
       "    </tr>\n",
       "  </thead>\n",
       "  <tbody>\n",
       "    <tr>\n",
       "      <th id=\"T_9bf80_level0_row0\" class=\"row_heading level0 row0\" >0</th>\n",
       "      <td id=\"T_9bf80_row0_col0\" class=\"data row0 col0\" >A</td>\n",
       "      <td id=\"T_9bf80_row0_col1\" class=\"data row0 col1\" >Default series</td>\n",
       "      <td id=\"T_9bf80_row0_col2\" class=\"data row0 col2\" >1</td>\n",
       "      <td id=\"T_9bf80_row0_col3\" class=\"data row0 col3\" >#015482</td>\n",
       "      <td id=\"T_9bf80_row0_col4\" class=\"data row0 col4\" >1</td>\n",
       "    </tr>\n",
       "    <tr>\n",
       "      <th id=\"T_9bf80_level0_row1\" class=\"row_heading level0 row1\" >1</th>\n",
       "      <td id=\"T_9bf80_row1_col0\" class=\"data row1 col0\" >B</td>\n",
       "      <td id=\"T_9bf80_row1_col1\" class=\"data row1 col1\" >Default series</td>\n",
       "      <td id=\"T_9bf80_row1_col2\" class=\"data row1 col2\" >2</td>\n",
       "      <td id=\"T_9bf80_row1_col3\" class=\"data row1 col3\" >#9f0052</td>\n",
       "      <td id=\"T_9bf80_row1_col4\" class=\"data row1 col4\" >2</td>\n",
       "    </tr>\n",
       "    <tr>\n",
       "      <th id=\"T_9bf80_level0_row2\" class=\"row_heading level0 row2\" >2</th>\n",
       "      <td id=\"T_9bf80_row2_col0\" class=\"data row2 col0\" >basement</td>\n",
       "      <td id=\"T_9bf80_row2_col1\" class=\"data row2 col1\" >Basement</td>\n",
       "      <td id=\"T_9bf80_row2_col2\" class=\"data row2 col2\" >1</td>\n",
       "      <td id=\"T_9bf80_row2_col3\" class=\"data row2 col3\" >#ffbe00</td>\n",
       "      <td id=\"T_9bf80_row2_col4\" class=\"data row2 col4\" >3</td>\n",
       "    </tr>\n",
       "  </tbody>\n",
       "</table>\n"
      ],
      "text/plain": [
       "    surface          series  order_surfaces    color  id\n",
       "0         A  Default series               1  #015482   1\n",
       "1         B  Default series               2  #9f0052   2\n",
       "2  basement        Basement               1  #ffbe00   3"
      ]
     },
     "execution_count": 15,
     "metadata": {},
     "output_type": "execute_result"
    }
   ],
   "source": [
    "geo_data.surfaces"
   ]
  },
  {
   "cell_type": "markdown",
   "metadata": {},
   "source": [
    "### Read the full strat_pile, filter out surfaces that are not within the geomodel surfaces and reorder surfaces in \"Default series\" according to the order in the strat_pile_file"
   ]
  },
  {
   "cell_type": "code",
   "execution_count": 16,
   "metadata": {},
   "outputs": [],
   "source": [
    "strat_pile = pd.read_csv(strat_pile_file, header=0, names=['surface', 'order']) # if no headers are present in strat_pile_file, put header=None"
   ]
  },
  {
   "cell_type": "code",
   "execution_count": 17,
   "metadata": {},
   "outputs": [],
   "source": [
    "strat_pile = strat_pile.merge(geo_data.surfaces.df, how='left', left_on='surface', right_on='surface').query('(series==series) and (series==\"Default series\")').sort_values('order')[['surface', 'order']]"
   ]
  },
  {
   "cell_type": "code",
   "execution_count": 18,
   "metadata": {},
   "outputs": [],
   "source": [
    "strat_pile_list = strat_pile['surface'].tolist()"
   ]
  },
  {
   "cell_type": "code",
   "execution_count": 19,
   "metadata": {},
   "outputs": [],
   "source": [
    "current_order = geo_data.surfaces.df.query('series==\"Default series\"')['surface'].to_dict()"
   ]
  },
  {
   "cell_type": "code",
   "execution_count": 20,
   "metadata": {},
   "outputs": [],
   "source": [
    "current_order = {v:k for k, v in current_order.items()}"
   ]
  },
  {
   "cell_type": "markdown",
   "metadata": {},
   "source": [
    "Create the new order from the strat_pile_list"
   ]
  },
  {
   "cell_type": "code",
   "execution_count": 21,
   "metadata": {},
   "outputs": [],
   "source": [
    "new_order = {}\n",
    "for k in range(len(strat_pile_list)):\n",
    "    new_order.update({strat_pile_list[k] : k+1})"
   ]
  },
  {
   "cell_type": "markdown",
   "metadata": {},
   "source": [
    "Reorder surfaces"
   ]
  },
  {
   "cell_type": "raw",
   "metadata": {},
   "source": [
    "# for 2.2.5\n",
    "for surface, current_idx in current_order.items():\n",
    "    geo_data.modify_order_surfaces(new_order[surface], current_idx)"
   ]
  },
  {
   "cell_type": "code",
   "execution_count": 22,
   "metadata": {},
   "outputs": [
    {
     "data": {
      "text/html": [
       "<style type=\"text/css\">\n",
       "#T_180c3_row0_col3 {\n",
       "  background-color: #015482;\n",
       "}\n",
       "#T_180c3_row1_col3 {\n",
       "  background-color: #9f0052;\n",
       "}\n",
       "#T_180c3_row2_col3 {\n",
       "  background-color: #ffbe00;\n",
       "}\n",
       "</style>\n",
       "<table id=\"T_180c3_\">\n",
       "  <thead>\n",
       "    <tr>\n",
       "      <th class=\"blank level0\" >&nbsp;</th>\n",
       "      <th class=\"col_heading level0 col0\" >surface</th>\n",
       "      <th class=\"col_heading level0 col1\" >series</th>\n",
       "      <th class=\"col_heading level0 col2\" >order_surfaces</th>\n",
       "      <th class=\"col_heading level0 col3\" >color</th>\n",
       "      <th class=\"col_heading level0 col4\" >id</th>\n",
       "    </tr>\n",
       "  </thead>\n",
       "  <tbody>\n",
       "    <tr>\n",
       "      <th id=\"T_180c3_level0_row0\" class=\"row_heading level0 row0\" >0</th>\n",
       "      <td id=\"T_180c3_row0_col0\" class=\"data row0 col0\" >A</td>\n",
       "      <td id=\"T_180c3_row0_col1\" class=\"data row0 col1\" >Default series</td>\n",
       "      <td id=\"T_180c3_row0_col2\" class=\"data row0 col2\" >1</td>\n",
       "      <td id=\"T_180c3_row0_col3\" class=\"data row0 col3\" >#015482</td>\n",
       "      <td id=\"T_180c3_row0_col4\" class=\"data row0 col4\" >1</td>\n",
       "    </tr>\n",
       "    <tr>\n",
       "      <th id=\"T_180c3_level0_row1\" class=\"row_heading level0 row1\" >1</th>\n",
       "      <td id=\"T_180c3_row1_col0\" class=\"data row1 col0\" >B</td>\n",
       "      <td id=\"T_180c3_row1_col1\" class=\"data row1 col1\" >Default series</td>\n",
       "      <td id=\"T_180c3_row1_col2\" class=\"data row1 col2\" >2</td>\n",
       "      <td id=\"T_180c3_row1_col3\" class=\"data row1 col3\" >#9f0052</td>\n",
       "      <td id=\"T_180c3_row1_col4\" class=\"data row1 col4\" >2</td>\n",
       "    </tr>\n",
       "    <tr>\n",
       "      <th id=\"T_180c3_level0_row2\" class=\"row_heading level0 row2\" >2</th>\n",
       "      <td id=\"T_180c3_row2_col0\" class=\"data row2 col0\" >basement</td>\n",
       "      <td id=\"T_180c3_row2_col1\" class=\"data row2 col1\" >Basement</td>\n",
       "      <td id=\"T_180c3_row2_col2\" class=\"data row2 col2\" >1</td>\n",
       "      <td id=\"T_180c3_row2_col3\" class=\"data row2 col3\" >#ffbe00</td>\n",
       "      <td id=\"T_180c3_row2_col4\" class=\"data row2 col4\" >3</td>\n",
       "    </tr>\n",
       "  </tbody>\n",
       "</table>\n"
      ],
      "text/plain": [
       "    surface          series  order_surfaces    color  id\n",
       "0         A  Default series               1  #015482   1\n",
       "1         B  Default series               2  #9f0052   2\n",
       "2  basement        Basement               1  #ffbe00   3"
      ]
     },
     "execution_count": 22,
     "metadata": {},
     "output_type": "execute_result"
    }
   ],
   "source": [
    "geo_data.surfaces"
   ]
  },
  {
   "cell_type": "code",
   "execution_count": 23,
   "metadata": {},
   "outputs": [
    {
     "data": {
      "text/html": [
       "<table border=\"1\" class=\"dataframe\">\n",
       "  <thead>\n",
       "    <tr style=\"text-align: right;\">\n",
       "      <th></th>\n",
       "      <th>order_series</th>\n",
       "      <th>BottomRelation</th>\n",
       "      <th>isActive</th>\n",
       "      <th>isFault</th>\n",
       "      <th>isFinite</th>\n",
       "    </tr>\n",
       "  </thead>\n",
       "  <tbody>\n",
       "    <tr>\n",
       "      <th>Default series</th>\n",
       "      <td>1</td>\n",
       "      <td>Erosion</td>\n",
       "      <td>True</td>\n",
       "      <td>False</td>\n",
       "      <td>False</td>\n",
       "    </tr>\n",
       "    <tr>\n",
       "      <th>Basement</th>\n",
       "      <td>2</td>\n",
       "      <td>Erosion</td>\n",
       "      <td>False</td>\n",
       "      <td>False</td>\n",
       "      <td>False</td>\n",
       "    </tr>\n",
       "  </tbody>\n",
       "</table>"
      ],
      "text/plain": [
       "                order_series BottomRelation  isActive  isFault  isFinite\n",
       "Default series             1        Erosion      True    False     False\n",
       "Basement                   2        Erosion     False    False     False"
      ]
     },
     "execution_count": 23,
     "metadata": {},
     "output_type": "execute_result"
    }
   ],
   "source": [
    "geo_data.series"
   ]
  },
  {
   "cell_type": "markdown",
   "metadata": {},
   "source": [
    "### Check data in 3D"
   ]
  },
  {
   "cell_type": "code",
   "execution_count": 24,
   "metadata": {},
   "outputs": [],
   "source": [
    "gp.plot.plot_3d(geo_data, image=False, show_topography=True, plotter_type='background', notebook=True);"
   ]
  },
  {
   "cell_type": "code",
   "execution_count": 25,
   "metadata": {},
   "outputs": [
    {
     "data": {
      "text/plain": [
       "test  2021-10-23 10:55"
      ]
     },
     "execution_count": 25,
     "metadata": {},
     "output_type": "execute_result"
    }
   ],
   "source": [
    "geo_data"
   ]
  },
  {
   "cell_type": "code",
   "execution_count": null,
   "metadata": {},
   "outputs": [],
   "source": []
  }
 ],
 "metadata": {
  "kernelspec": {
   "display_name": "Python 3 (ipykernel)",
   "language": "python",
   "name": "python3"
  },
  "language_info": {
   "codemirror_mode": {
    "name": "ipython",
    "version": 3
   },
   "file_extension": ".py",
   "mimetype": "text/x-python",
   "name": "python",
   "nbconvert_exporter": "python",
   "pygments_lexer": "ipython3",
   "version": "3.8.10"
  }
 },
 "nbformat": 4,
 "nbformat_minor": 4
}
