{
 "cells": [
  {
   "cell_type": "markdown",
   "id": "8a6abcb5",
   "metadata": {},
   "source": [
    "# First trial at displaying a shaft using a PolyData\n",
    "\n",
    "We only work on the first polygon for now..."
   ]
  },
  {
   "cell_type": "code",
   "execution_count": 2,
   "id": "60b69616",
   "metadata": {},
   "outputs": [],
   "source": [
    "import geopandas as gpd\n",
    "import pyvista as pv\n",
    "from shapely.geometry import Polygon\n",
    "from shapely.geometry import LineString\n",
    "from shapely.geometry import Point\n",
    "import numpy as np"
   ]
  },
  {
   "cell_type": "code",
   "execution_count": 3,
   "id": "c79c21c1",
   "metadata": {},
   "outputs": [],
   "source": [
    "gdf = gpd.read_file('../../../../data/Digitalized.gpkg', layer = 'shaft')"
   ]
  },
  {
   "cell_type": "code",
   "execution_count": 4,
   "id": "dd408603",
   "metadata": {},
   "outputs": [
    {
     "data": {
      "text/html": [
       "<div>\n",
       "<style scoped>\n",
       "    .dataframe tbody tr th:only-of-type {\n",
       "        vertical-align: middle;\n",
       "    }\n",
       "\n",
       "    .dataframe tbody tr th {\n",
       "        vertical-align: top;\n",
       "    }\n",
       "\n",
       "    .dataframe thead th {\n",
       "        text-align: right;\n",
       "    }\n",
       "</style>\n",
       "<table border=\"1\" class=\"dataframe\">\n",
       "  <thead>\n",
       "    <tr style=\"text-align: right;\">\n",
       "      <th></th>\n",
       "      <th>Nom</th>\n",
       "      <th>Début ou fin</th>\n",
       "      <th>geometry</th>\n",
       "    </tr>\n",
       "  </thead>\n",
       "  <tbody>\n",
       "    <tr>\n",
       "      <th>0</th>\n",
       "      <td>Siège Sacré-Français - P2</td>\n",
       "      <td>F</td>\n",
       "      <td>POINT Z (154574.791 123702.097 -725.000)</td>\n",
       "    </tr>\n",
       "    <tr>\n",
       "      <th>1</th>\n",
       "      <td>Siège Sacré-Français - P2</td>\n",
       "      <td>D</td>\n",
       "      <td>POINT Z (154574.791 123702.097 125.000)</td>\n",
       "    </tr>\n",
       "  </tbody>\n",
       "</table>\n",
       "</div>"
      ],
      "text/plain": [
       "                         Nom Début ou fin   \\\n",
       "0  Siège Sacré-Français - P2             F   \n",
       "1  Siège Sacré-Français - P2             D   \n",
       "\n",
       "                                   geometry  \n",
       "0  POINT Z (154574.791 123702.097 -725.000)  \n",
       "1   POINT Z (154574.791 123702.097 125.000)  "
      ]
     },
     "execution_count": 4,
     "metadata": {},
     "output_type": "execute_result"
    }
   ],
   "source": [
    "gdf"
   ]
  },
  {
   "cell_type": "raw",
   "id": "7dd66cd9",
   "metadata": {},
   "source": [
    "points = list(gdf.geometry[0].coords[0]), (gdf.geometry[1].coords[0])\n",
    "\n",
    "spline = pv.Spline(points, 2)\n",
    "spline.plot(jupyter_backend= 'panel',render_lines_as_tubes=True, line_width=10, show_scalar_bar=True)\n"
   ]
  },
  {
   "cell_type": "code",
   "execution_count": 5,
   "id": "15dda09a",
   "metadata": {},
   "outputs": [
    {
     "data": {
      "text/plain": [
       "2"
      ]
     },
     "execution_count": 5,
     "metadata": {},
     "output_type": "execute_result"
    }
   ],
   "source": [
    "length = len(gdf.index)\n",
    "length       "
   ]
  },
  {
   "cell_type": "code",
   "execution_count": 6,
   "id": "3e7030e9",
   "metadata": {},
   "outputs": [],
   "source": [
    "points = [gdf.geometry[0].coords[0]]"
   ]
  },
  {
   "cell_type": "code",
   "execution_count": 7,
   "id": "0e75455f",
   "metadata": {},
   "outputs": [
    {
     "data": {
      "text/plain": [
       "[(154574.7908252656, 123702.0971627403, -725.0)]"
      ]
     },
     "execution_count": 7,
     "metadata": {},
     "output_type": "execute_result"
    }
   ],
   "source": [
    "points"
   ]
  },
  {
   "cell_type": "code",
   "execution_count": 8,
   "id": "fb53fb95",
   "metadata": {},
   "outputs": [],
   "source": [
    "for i in range (1, length):\n",
    "    points2 = gdf.geometry[i].coords[0]\n",
    "    points.append(points2)"
   ]
  },
  {
   "cell_type": "code",
   "execution_count": 13,
   "id": "b70e352f",
   "metadata": {},
   "outputs": [
    {
     "data": {},
     "metadata": {},
     "output_type": "display_data"
    },
    {
     "data": {
      "text/html": [
       "<div id='1010'>\n",
       "\n",
       "\n",
       "\n",
       "\n",
       "\n",
       "  <div class=\"bk-root\" id=\"b52dd792-b3f3-4f23-893b-67753e6e24d0\" data-root-id=\"1010\"></div>\n",
       "</div>\n",
       "<script type=\"application/javascript\">(function(root) {\n",
       "  function embed_document(root) {\n",
       "    var docs_json = {\"4e589eb1-e100-4b50-92dd-d1fe57fa8038\":{\"defs\":[{\"extends\":null,\"module\":null,\"name\":\"ReactiveHTML1\",\"overrides\":[],\"properties\":[]},{\"extends\":null,\"module\":null,\"name\":\"FlexBox1\",\"overrides\":[],\"properties\":[{\"default\":\"flex-start\",\"kind\":null,\"name\":\"align_content\"},{\"default\":\"flex-start\",\"kind\":null,\"name\":\"align_items\"},{\"default\":\"row\",\"kind\":null,\"name\":\"flex_direction\"},{\"default\":\"wrap\",\"kind\":null,\"name\":\"flex_wrap\"},{\"default\":\"flex-start\",\"kind\":null,\"name\":\"justify_content\"}]},{\"extends\":null,\"module\":null,\"name\":\"TemplateActions1\",\"overrides\":[],\"properties\":[{\"default\":0,\"kind\":null,\"name\":\"open_modal\"},{\"default\":0,\"kind\":null,\"name\":\"close_modal\"}]},{\"extends\":null,\"module\":null,\"name\":\"MaterialTemplateActions1\",\"overrides\":[],\"properties\":[{\"default\":0,\"kind\":null,\"name\":\"open_modal\"},{\"default\":0,\"kind\":null,\"name\":\"close_modal\"}]}],\"roots\":{\"references\":[{\"attributes\":{\"arrays\":{\"186c474b5ab68d8956e7b7386b479914\":\"UEsDBBQAAAAIAKlGXVOyN9CjCgAAABAAAAAlAAAAZGF0YS8xODZjNDc0YjVhYjY4ZDg5NTZlN2I3Mzg2YjQ3OTkxNGNmgABGIGYCYgBQSwECFAMUAAAACACpRl1TsjfQowoAAAAQAAAAJQAAAAAAAAAAAAAAgAEAAAAAZGF0YS8xODZjNDc0YjVhYjY4ZDg5NTZlN2I3Mzg2YjQ3OTkxNFBLBQYAAAAAAQABAFMAAABNAAAAAAA=\",\"2ebda7d3c6c3627ba233a85b7027cd58\":\"UEsDBBQAAAAIAKlGXVOBkDoDkwEAAAAEAAAlAAAAZGF0YS8yZWJkYTdkM2M2YzM2MjdiYTIzM2E4NWI3MDI3Y2Q1OHXTb0SdYRgH4E5/VllpSibJJBlJTERGJEZEjIgYETEiYmxEjIjYh4gYETEiYiJiIjISmUgmySRNaqo5Z53O2TXd077M6/r2vs9z37+fN5uTk83+lSCXPAoopJgSyiinkipqqKWeBppoppU2Ouikmx766GeQIUZ4wxjjTDLFDLPMs8ASy6yyxgabbLPDHvsccsQJp5xzwRVJUlyT5obMrUz2zg1pfpHkJ5f84IzvHPONA76yyxe2+Mw6n1jhI4t8YI73TPOOCd4yyiuGeckAL+jlOV08o52ntPCERh5TxyOqeUgFDyjlPkXcI588Evz/ScRb+fFVUZxSGqdWxC3VcWtdTNEYU7XElO0xdVds0RtbDcSWw7H1aKQwEalMR0pzkdpipLgSqa5HyluR+m60cBCtHEdLZ9HaZbSYilbT0fI/rWeyt25Ic02KJFdccM4pJxxxyD577LDNJhusscoySywwzywzTDHJOGO8ZoQhBumnjx666aSDNlpppokG6qmlhioqKaeMEooppIA8cknc/e5//AZQSwECFAMUAAAACACpRl1TgZA6A5MBAAAABAAAJQAAAAAAAAAAAAAAgAEAAAAAZGF0YS8yZWJkYTdkM2M2YzM2MjdiYTIzM2E4NWI3MDI3Y2Q1OFBLBQYAAAAAAQABAFMAAADWAQAAAAA=\",\"98ee3d84185120897228cd70bff2d128\":\"UEsDBBQAAAAIAKlGXVPCJ+MnGAAAACQAAAAlAAAAZGF0YS85OGVlM2Q4NDE4NTEyMDg5NzIyOGNkNzBiZmYyZDEyONv8WcyDZ/ZHdwYH0yObYWyGaYcR7F9OAFBLAQIUAxQAAAAIAKlGXVPCJ+MnGAAAACQAAAAlAAAAAAAAAAAAAACAAQAAAABkYXRhLzk4ZWUzZDg0MTg1MTIwODk3MjI4Y2Q3MGJmZjJkMTI4UEsFBgAAAAABAAEAUwAAAFsAAAAAAA==\"},\"axes\":{\"id\":\"1009\"},\"margin\":[5,5,5,5],\"orientation_widget\":true,\"scene\":{\"calls\":[[\"addRenderer\",[\"instance:${be977825-7613-43c6-ac78-add0d7d05d2300005596133ca260}\"]],[\"addRenderer\",[\"instance:${be977825-7613-43c6-ac78-add0d7d05d2300005596147c4420}\"]],[\"addRenderer\",[\"instance:${be977825-7613-43c6-ac78-add0d7d05d230000559614436a60}\"]]],\"dependencies\":[{\"calls\":[[\"setActiveCamera\",[\"instance:${000055961464d7d0}\"]],[\"addViewProp\",[\"instance:${be977825-7613-43c6-ac78-add0d7d05d2300005596144df0b0}\"]]],\"dependencies\":[{\"id\":\"000055961464d7d0\",\"parent\":\"be977825-7613-43c6-ac78-add0d7d05d2300005596133ca260\",\"properties\":{\"clippingRange\":[1137.3591754774106,2281.3665435978],\"focalPoint\":[154574.796875,123702.09375,-300.0],\"position\":[155522.84868590286,124650.14556090285,648.0518109028491],\"viewUp\":[0.0,0.0,1.0]},\"type\":\"vtkOpenGLCamera\"},{\"calls\":[[\"setMapper\",[\"instance:${be977825-7613-43c6-ac78-add0d7d05d2300005596145ebff0}\"]],[\"setProperty\",[\"instance:${be977825-7613-43c6-ac78-add0d7d05d23000055961462e950}\"]]],\"dependencies\":[{\"calls\":[[\"setInputData\",[\"instance:${be977825-7613-43c6-ac78-add0d7d05d2300005596145ebff0-dataset-0}\",0]],[\"setLookupTable\",[\"instance:${be977825-7613-43c6-ac78-add0d7d05d2300005596144de950}\"]]],\"dependencies\":[{\"id\":\"be977825-7613-43c6-ac78-add0d7d05d2300005596145ebff0-dataset-0\",\"parent\":\"be977825-7613-43c6-ac78-add0d7d05d2300005596145ebff0\",\"properties\":{\"fields\":[],\"lines\":{\"dataType\":\"Uint32Array\",\"hash\":\"186c474b5ab68d8956e7b7386b479914\",\"name\":null,\"numberOfComponents\":1,\"ranges\":[{\"component\":null,\"max\":3.0,\"min\":0.0}],\"size\":4,\"vtkClass\":\"vtkCellArray\"},\"points\":{\"dataType\":\"Float32Array\",\"hash\":\"98ee3d84185120897228cd70bff2d128\",\"name\":\"Points\",\"numberOfComponents\":3,\"ranges\":[{\"component\":null,\"max\":154574.796875,\"min\":154574.796875},{\"component\":null,\"max\":123702.09375,\"min\":123702.09375},{\"component\":null,\"max\":125.0,\"min\":-725.0},{\"component\":null,\"max\":197980.05316718476,\"min\":197978.7651544511}],\"size\":9,\"vtkClass\":\"vtkPoints\"}},\"type\":\"vtkPolyData\"},{\"arrays\":[{\"dataType\":\"Uint8Array\",\"hash\":\"2ebda7d3c6c3627ba233a85b7027cd58\",\"name\":null,\"numberOfComponents\":4,\"ranges\":[{\"component\":null,\"max\":255.0,\"min\":0.0},{\"component\":null,\"max\":255.0,\"min\":0.0},{\"component\":null,\"max\":255.0,\"min\":0.0},{\"component\":null,\"max\":255.0,\"min\":255.0},{\"component\":null,\"max\":441.0963613542964,\"min\":360.62445840513925}],\"registration\":\"setTable\",\"size\":1024,\"vtkClass\":\"vtkDataArray\"}],\"id\":\"be977825-7613-43c6-ac78-add0d7d05d2300005596144de950\",\"parent\":\"be977825-7613-43c6-ac78-add0d7d05d2300005596145ebff0\",\"properties\":{\"aboveRangeColor\":[1.0,1.0,1.0,1.0],\"alpha\":1.0,\"belowRangeColor\":[0.0,0.0,0.0,1.0],\"hueRange\":[0.5,0],\"indexedLookup\":0,\"nanColor\":[0.5,0.0,0.0,1.0],\"numberOfColors\":256,\"range\":[0.0,1.0],\"saturationRange\":[1.0,1.0],\"useAboveRangeColor\":false,\"useBelowRangeColor\":false,\"valueRange\":[0.0,1.0],\"vectorComponent\":0,\"vectorMode\":1,\"vectorSize\":-1},\"type\":\"vtkLookupTable\"}],\"id\":\"be977825-7613-43c6-ac78-add0d7d05d2300005596145ebff0\",\"parent\":\"be977825-7613-43c6-ac78-add0d7d05d2300005596144df0b0\",\"properties\":{\"arrayAccessMode\":1,\"colorByArrayName\":null,\"colorMode\":0,\"interpolateScalarsBeforeMapping\":1,\"renderTime\":0.0,\"resolveCoincidentTopology\":0,\"scalarMode\":5,\"scalarRange\":[0.0,1.0],\"scalarVisibility\":1,\"useLookupTableScalarRange\":0},\"type\":\"vtkDataSetMapper\"},{\"id\":\"be977825-7613-43c6-ac78-add0d7d05d23000055961462e950\",\"parent\":\"be977825-7613-43c6-ac78-add0d7d05d2300005596144df0b0\",\"properties\":{\"ambient\":0.0,\"ambientColor\":[1.0,1.0,1.0],\"backfaceCulling\":0,\"color\":[1.0,1.0,1.0],\"diffuse\":1.0,\"diffuseColor\":[1.0,1.0,1.0],\"edgeColor\":[0.0,0.0,0.0],\"edgeVisibility\":0,\"frontfaceCulling\":0,\"interpolation\":0,\"lighting\":1,\"lineWidth\":10.0,\"opacity\":1.0,\"pointSize\":5.0,\"representation\":2,\"specular\":0.0,\"specularColor\":[1.0,1.0,1.0],\"specularPower\":100.0},\"type\":\"vtkOpenGLProperty\"}],\"id\":\"be977825-7613-43c6-ac78-add0d7d05d2300005596144df0b0\",\"parent\":\"be977825-7613-43c6-ac78-add0d7d05d2300005596133ca260\",\"properties\":{\"dragable\":1,\"forceOpaque\":false,\"forceTranslucent\":false,\"orientation\":[0.0,-0.0,0.0],\"origin\":[0.0,0.0,0.0],\"pickable\":1,\"position\":[0.0,0.0,0.0],\"scale\":[1.0,1.0,1.0],\"useBounds\":true,\"visibility\":1},\"type\":\"vtkOpenGLActor\"}],\"id\":\"be977825-7613-43c6-ac78-add0d7d05d2300005596133ca260\",\"parent\":\"be977825-7613-43c6-ac78-add0d7d05d23000055961456af40\",\"properties\":{\"background\":[0.3,0.3,0.3],\"background2\":[0.2,0.2,0.2],\"clippingRangeExpansion\":0.5,\"interactive\":1,\"layer\":0,\"lightFollowCamera\":1,\"maximumNumberOfPeels\":4,\"nearClippingPlaneTolerance\":0.001,\"occlusionRatio\":0.0,\"preserveColorBuffer\":0,\"preserveDepthBuffer\":0,\"twoSidedLighting\":1,\"useDepthPeeling\":0,\"useShadows\":0,\"viewport\":[0.0,0.0,1.0,1.0]},\"type\":\"vtkOpenGLRenderer\"},{\"calls\":[[\"setActiveCamera\",[\"instance:${00005596145a7db0}\"]]],\"dependencies\":[{\"id\":\"00005596145a7db0\",\"parent\":\"be977825-7613-43c6-ac78-add0d7d05d2300005596147c4420\",\"properties\":{\"clippingRange\":[0.01,1000.01],\"focalPoint\":[0.0,0.0,0.0],\"position\":[0.0,0.0,1.0],\"viewUp\":[0.0,1.0,0.0]},\"type\":\"vtkOpenGLCamera\"}],\"id\":\"be977825-7613-43c6-ac78-add0d7d05d2300005596147c4420\",\"parent\":\"be977825-7613-43c6-ac78-add0d7d05d23000055961456af40\",\"properties\":{\"background\":[0.3,0.3,0.3],\"background2\":[0.2,0.2,0.2],\"clippingRangeExpansion\":0.5,\"interactive\":0,\"layer\":1,\"lightFollowCamera\":1,\"maximumNumberOfPeels\":4,\"nearClippingPlaneTolerance\":0.0,\"occlusionRatio\":0.0,\"preserveColorBuffer\":1,\"preserveDepthBuffer\":0,\"twoSidedLighting\":1,\"useDepthPeeling\":0,\"useShadows\":0,\"viewport\":[0.0,0.0,1.0,1.0]},\"type\":\"vtkOpenGLRenderer\"},{\"calls\":[[\"setActiveCamera\",[\"instance:${000055961446ee10}\"]]],\"dependencies\":[{\"id\":\"000055961446ee10\",\"parent\":\"be977825-7613-43c6-ac78-add0d7d05d230000559614436a60\",\"properties\":{\"clippingRange\":[3.178428018541373,11.131299659311036],\"focalPoint\":[0.0,0.0,0.0],\"position\":[3.8637033051563123,3.863703305156253,3.8637033051562537],\"viewUp\":[0.0,0.0,1.0]},\"type\":\"vtkOpenGLCamera\"}],\"id\":\"be977825-7613-43c6-ac78-add0d7d05d230000559614436a60\",\"parent\":\"be977825-7613-43c6-ac78-add0d7d05d23000055961456af40\",\"properties\":{\"background\":[0.0,0.0,0.0],\"background2\":[0.2,0.2,0.2],\"clippingRangeExpansion\":0.5,\"interactive\":0,\"layer\":1,\"lightFollowCamera\":1,\"maximumNumberOfPeels\":4,\"nearClippingPlaneTolerance\":0.001,\"occlusionRatio\":0.0,\"preserveColorBuffer\":1,\"preserveDepthBuffer\":0,\"twoSidedLighting\":1,\"useDepthPeeling\":0,\"useShadows\":0,\"viewport\":[0.0,0.0,0.2,0.2]},\"type\":\"vtkOpenGLRenderer\"}],\"id\":\"be977825-7613-43c6-ac78-add0d7d05d23000055961456af40\",\"mtime\":19805,\"parent\":\"be977825-7613-43c6-ac78-add0d7d05d230x0\",\"properties\":{\"numberOfLayers\":2},\"type\":\"vtkXOpenGLRenderWindow\"},\"sizing_mode\":\"stretch_width\"},\"id\":\"1010\",\"type\":\"panel.models.vtk.VTKSynchronizedPlot\"},{\"attributes\":{},\"id\":\"1009\",\"type\":\"panel.models.vtk.VTKAxes\"},{\"attributes\":{\"client_comm_id\":\"fe901504c6d84370bbed81ef83f7c07a\",\"comm_id\":\"ebda5aab46234c71b28671d23f37740d\",\"plot_id\":\"1010\"},\"id\":\"1011\",\"type\":\"panel.models.comm_manager.CommManager\"}],\"root_ids\":[\"1010\",\"1011\"]},\"title\":\"Bokeh Application\",\"version\":\"2.4.1\"}};\n",
       "    var render_items = [{\"docid\":\"4e589eb1-e100-4b50-92dd-d1fe57fa8038\",\"root_ids\":[\"1010\"],\"roots\":{\"1010\":\"b52dd792-b3f3-4f23-893b-67753e6e24d0\"}}];\n",
       "    root.Bokeh.embed.embed_items_notebook(docs_json, render_items);\n",
       "  }\n",
       "  if (root.Bokeh !== undefined && root.Bokeh.Panel !== undefined && ( root['vtk'] !== undefined)) {\n",
       "    embed_document(root);\n",
       "  } else {\n",
       "    var attempts = 0;\n",
       "    var timer = setInterval(function(root) {\n",
       "      if (root.Bokeh !== undefined && root.Bokeh.Panel !== undefined && (root['vtk'] !== undefined)) {\n",
       "        clearInterval(timer);\n",
       "        embed_document(root);\n",
       "      } else if (document.readyState == \"complete\") {\n",
       "        attempts++;\n",
       "        if (attempts > 200) {\n",
       "          clearInterval(timer);\n",
       "          console.log(\"Bokeh: ERROR: Unable to run BokehJS code because BokehJS library is missing\");\n",
       "        }\n",
       "      }\n",
       "    }, 25, root)\n",
       "  }\n",
       "})(window);</script>"
      ]
     },
     "metadata": {},
     "output_type": "display_data"
    }
   ],
   "source": [
    "spline = pv.Spline(points, length)\n",
    "spline.plot(jupyter_backend= 'panel',render_lines_as_tubes=True, line_width=10, show_scalar_bar=True)  "
   ]
  }
 ],
 "metadata": {
  "kernelspec": {
   "display_name": "Python 3",
   "language": "python",
   "name": "python3"
  },
  "language_info": {
   "codemirror_mode": {
    "name": "ipython",
    "version": 3
   },
   "file_extension": ".py",
   "mimetype": "text/x-python",
   "name": "python",
   "nbconvert_exporter": "python",
   "pygments_lexer": "ipython3",
   "version": "3.8.9"
  }
 },
 "nbformat": 4,
 "nbformat_minor": 5
}
