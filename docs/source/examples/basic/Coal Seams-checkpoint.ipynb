{
 "cells": [
  {
   "cell_type": "markdown",
   "metadata": {},
   "source": [
    "# Coal seams"
   ]
  },
  {
   "cell_type": "code",
   "execution_count": null,
   "metadata": {},
   "outputs": [],
   "source": [
    "import flopy as fl\n",
    "import numpy as np\n",
    "import matplotlib as mplt\n",
    "import geopandas as gpd\n",
    "import shapely\n",
    "import pyproj\n",
    "import fiona\n",
    "import pyvista as pv\n",
    "#import panel as pn"
   ]
  },
  {
   "cell_type": "code",
   "execution_count": 2,
   "metadata": {},
   "outputs": [],
   "source": [
    "from geometron.geom_to_vtk import gdf_to_ug"
   ]
  },
  {
   "cell_type": "markdown",
   "metadata": {},
   "source": [
    "Importation of the geopackage into a geodatframe"
   ]
  },
  {
   "cell_type": "code",
   "execution_count": 3,
   "metadata": {},
   "outputs": [],
   "source": [
    "gdf = gpd.read_file(r'C:\\Users\\melan\\OneDrive\\Documents\\Ma2 Mines\\TFE\\Qgis\\Parties exploitées - Caillette.gpkg')"
   ]
  },
  {
   "cell_type": "markdown",
   "metadata": {},
   "source": [
    "Conversion of the geodataframe into an unstructured grid"
   ]
  },
  {
   "cell_type": "code",
   "execution_count": 4,
   "metadata": {},
   "outputs": [
    {
     "data": {
      "text/html": [
       "<table><tr><th>Header</th><th>Data Arrays</th></tr><tr><td>\n",
       "<table>\n",
       "<tr><th>UnstructuredGrid</th><th>Information</th></tr>\n",
       "<tr><td>N Cells</td><td>276</td></tr>\n",
       "<tr><td>N Points</td><td>4453</td></tr>\n",
       "<tr><td>X Bounds</td><td>1.518e+05, 1.578e+05</td></tr>\n",
       "<tr><td>Y Bounds</td><td>1.215e+05, 1.252e+05</td></tr>\n",
       "<tr><td>Z Bounds</td><td>-1.078e+03, -2.070e+02</td></tr>\n",
       "<tr><td>N Arrays</td><td>1</td></tr>\n",
       "</table>\n",
       "\n",
       "</td><td>\n",
       "<table>\n",
       "<tr><th>Name</th><th>Field</th><th>Type</th><th>N Comp</th><th>Min</th><th>Max</th></tr>\n",
       "<tr><td><b>Elevation</b></td><td>Points</td><td>float64</td><td>1</td><td>-1.078e+03</td><td>-2.070e+02</td></tr>\n",
       "</table>\n",
       "\n",
       "</td></tr> </table>"
      ],
      "text/plain": [
       "UnstructuredGrid (0x2280c3ef940)\n",
       "  N Cells:\t276\n",
       "  N Points:\t4453\n",
       "  X Bounds:\t1.518e+05, 1.578e+05\n",
       "  Y Bounds:\t1.215e+05, 1.252e+05\n",
       "  Z Bounds:\t-1.078e+03, -2.070e+02\n",
       "  N Arrays:\t1"
      ]
     },
     "execution_count": 4,
     "metadata": {},
     "output_type": "execute_result"
    }
   ],
   "source": [
    "ug = gdf_to_ug(gdf)\n",
    "ug"
   ]
  },
  {
   "cell_type": "code",
   "execution_count": 5,
   "metadata": {
    "tags": []
   },
   "outputs": [],
   "source": [
    "#from pyvista import demos\n",
    "#demos.plot_logo(background='White', jupyter_backend='ipyvtklink')"
   ]
  },
  {
   "cell_type": "markdown",
   "metadata": {},
   "source": [
    "Plotting of the ug"
   ]
  },
  {
   "cell_type": "code",
   "execution_count": 6,
   "metadata": {
    "nbsphinx-thumbnail": {
     "tooltip": "This tooltip message was defined in cell metadata"
    }
   },
   "outputs": [
    {
     "data": {
      "application/vnd.jupyter.widget-view+json": {
       "model_id": "135584be2f044b859cbe52fce89a1351",
       "version_major": 2,
       "version_minor": 0
      },
      "text/plain": [
       "ViewInteractiveWidget(height=480, layout=Layout(height='auto', width='100%'), width=1024)"
      ]
     },
     "metadata": {},
     "output_type": "display_data"
    }
   ],
   "source": [
    "dargs = dict(scalars='Elevation', cmap='rainbow', show_edges=True, window_size=(1024,480))\n",
    "\n",
    "ug.plot(jupyter_backend='ipyvtklink', color='w', style='surface', interpolate_before_map=True, scalar_bar_args={'title': 'Elevation'}, **dargs)"
   ]
  }
 ],
 "metadata": {
  "celltoolbar": "Éditer les Méta-Données",
  "kernelspec": {
   "display_name": "Python 3",
   "language": "python",
   "name": "python3"
  },
  "language_info": {
   "codemirror_mode": {
    "name": "ipython",
    "version": 3
   },
   "file_extension": ".py",
   "mimetype": "text/x-python",
   "name": "python",
   "nbconvert_exporter": "python",
   "pygments_lexer": "ipython3",
   "version": "3.6.9"
  }
 },
 "nbformat": 4,
 "nbformat_minor": 5
}
