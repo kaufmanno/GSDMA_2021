{
 "cells": [
  {
   "cell_type": "markdown",
   "id": "8a6abcb5",
   "metadata": {},
   "source": [
    "# First trial at displaying a shaft using a PolyData\n",
    "\n",
    "We only work on the first polygon for now..."
   ]
  },
  {
   "cell_type": "code",
   "execution_count": 1,
   "id": "60b69616",
   "metadata": {},
   "outputs": [],
   "source": [
    "import geopandas as gpd\n",
    "import pyvista as pv\n",
    "from shapely.geometry import Polygon\n",
    "from shapely.geometry import LineString\n",
    "from shapely.geometry import Point\n",
    "import numpy as np"
   ]
  },
  {
   "cell_type": "code",
   "execution_count": 2,
   "id": "c79c21c1",
   "metadata": {},
   "outputs": [],
   "source": [
    "gdf = gpd.read_file('../../../../data/Digitalized.gpkg', layer = 'shaft')"
   ]
  },
  {
   "cell_type": "code",
   "execution_count": 3,
   "id": "dd408603",
   "metadata": {},
   "outputs": [
    {
     "data": {
      "text/html": [
       "<div>\n",
       "<style scoped>\n",
       "    .dataframe tbody tr th:only-of-type {\n",
       "        vertical-align: middle;\n",
       "    }\n",
       "\n",
       "    .dataframe tbody tr th {\n",
       "        vertical-align: top;\n",
       "    }\n",
       "\n",
       "    .dataframe thead th {\n",
       "        text-align: right;\n",
       "    }\n",
       "</style>\n",
       "<table border=\"1\" class=\"dataframe\">\n",
       "  <thead>\n",
       "    <tr style=\"text-align: right;\">\n",
       "      <th></th>\n",
       "      <th>Nom</th>\n",
       "      <th>Début ou fin</th>\n",
       "      <th>geometry</th>\n",
       "    </tr>\n",
       "  </thead>\n",
       "  <tbody>\n",
       "    <tr>\n",
       "      <th>0</th>\n",
       "      <td>Siège Sacré-Français - P2</td>\n",
       "      <td>F</td>\n",
       "      <td>POINT Z (154574.791 123702.097 -725.000)</td>\n",
       "    </tr>\n",
       "    <tr>\n",
       "      <th>1</th>\n",
       "      <td>Siège Sacré-Français - P2</td>\n",
       "      <td>D</td>\n",
       "      <td>POINT Z (154574.791 123702.097 125.000)</td>\n",
       "    </tr>\n",
       "  </tbody>\n",
       "</table>\n",
       "</div>"
      ],
      "text/plain": [
       "                         Nom Début ou fin   \\\n",
       "0  Siège Sacré-Français - P2             F   \n",
       "1  Siège Sacré-Français - P2             D   \n",
       "\n",
       "                                   geometry  \n",
       "0  POINT Z (154574.791 123702.097 -725.000)  \n",
       "1   POINT Z (154574.791 123702.097 125.000)  "
      ]
     },
     "execution_count": 3,
     "metadata": {},
     "output_type": "execute_result"
    }
   ],
   "source": [
    "gdf"
   ]
  },
  {
   "cell_type": "raw",
   "id": "7dd66cd9",
   "metadata": {},
   "source": [
    "points = list(gdf.geometry[0].coords[0]), (gdf.geometry[1].coords[0])\n",
    "\n",
    "spline = pv.Spline(points, 2)\n",
    "spline.plot(jupyter_backend= 'panel',render_lines_as_tubes=True, line_width=10, show_scalar_bar=True)\n"
   ]
  },
  {
   "cell_type": "code",
   "execution_count": 4,
   "id": "15dda09a",
   "metadata": {},
   "outputs": [
    {
     "data": {
      "text/plain": [
       "2"
      ]
     },
     "execution_count": 4,
     "metadata": {},
     "output_type": "execute_result"
    }
   ],
   "source": [
    "length = len(gdf.index)\n",
    "length       "
   ]
  },
  {
   "cell_type": "code",
   "execution_count": 5,
   "id": "3e7030e9",
   "metadata": {},
   "outputs": [],
   "source": [
    "points = [gdf.geometry[0].coords[0]]"
   ]
  },
  {
   "cell_type": "code",
   "execution_count": 6,
   "id": "0e75455f",
   "metadata": {},
   "outputs": [
    {
     "data": {
      "text/plain": [
       "[(154574.7908252656, 123702.0971627403, -725.0)]"
      ]
     },
     "execution_count": 6,
     "metadata": {},
     "output_type": "execute_result"
    }
   ],
   "source": [
    "points"
   ]
  },
  {
   "cell_type": "code",
   "execution_count": 7,
   "id": "fb53fb95",
   "metadata": {},
   "outputs": [],
   "source": [
    "for i in range (1, length):\n",
    "    points2 = gdf.geometry[i].coords[0]\n",
    "    points.append(points2)"
   ]
  },
  {
   "cell_type": "code",
   "execution_count": 10,
   "id": "b70e352f",
   "metadata": {},
   "outputs": [
    {
     "data": {},
     "metadata": {},
     "output_type": "display_data"
    },
    {
     "data": {
      "text/html": [
       "<div id='1010'>\n",
       "\n",
       "\n",
       "\n",
       "\n",
       "\n",
       "  <div class=\"bk-root\" id=\"bf8e984b-5e32-478f-a9fa-d187f830a4d8\" data-root-id=\"1010\"></div>\n",
       "</div>\n",
       "<script type=\"application/javascript\">(function(root) {\n",
       "  function embed_document(root) {\n",
       "    var docs_json = {\"9eb94f42-abbf-4d44-a4a9-c6e7b40e0e8e\":{\"defs\":[{\"extends\":null,\"module\":null,\"name\":\"ReactiveHTML1\",\"overrides\":[],\"properties\":[]},{\"extends\":null,\"module\":null,\"name\":\"FlexBox1\",\"overrides\":[],\"properties\":[{\"default\":\"flex-start\",\"kind\":null,\"name\":\"align_content\"},{\"default\":\"flex-start\",\"kind\":null,\"name\":\"align_items\"},{\"default\":\"row\",\"kind\":null,\"name\":\"flex_direction\"},{\"default\":\"wrap\",\"kind\":null,\"name\":\"flex_wrap\"},{\"default\":\"flex-start\",\"kind\":null,\"name\":\"justify_content\"}]},{\"extends\":null,\"module\":null,\"name\":\"TemplateActions1\",\"overrides\":[],\"properties\":[{\"default\":0,\"kind\":null,\"name\":\"open_modal\"},{\"default\":0,\"kind\":null,\"name\":\"close_modal\"}]},{\"extends\":null,\"module\":null,\"name\":\"MaterialTemplateActions1\",\"overrides\":[],\"properties\":[{\"default\":0,\"kind\":null,\"name\":\"open_modal\"},{\"default\":0,\"kind\":null,\"name\":\"close_modal\"}]}],\"roots\":{\"references\":[{\"attributes\":{\"client_comm_id\":\"0472ffa4fbca416d8cc0289e24952753\",\"comm_id\":\"ea77af8af1a3438f99f5c93ffa9df72d\",\"plot_id\":\"1010\"},\"id\":\"1011\",\"type\":\"panel.models.comm_manager.CommManager\"},{\"attributes\":{\"arrays\":{\"186c474b5ab68d8956e7b7386b479914\":\"UEsDBBQAAAAIAMlYZVOyN9CjCgAAABAAAAAlAAAAZGF0YS8xODZjNDc0YjVhYjY4ZDg5NTZlN2I3Mzg2YjQ3OTkxNGNmgABGIGYCYgBQSwECFAMUAAAACADJWGVTsjfQowoAAAAQAAAAJQAAAAAAAAAAAAAAgAEAAAAAZGF0YS8xODZjNDc0YjVhYjY4ZDg5NTZlN2I3Mzg2YjQ3OTkxNFBLBQYAAAAAAQABAFMAAABNAAAAAAA=\",\"2ebda7d3c6c3627ba233a85b7027cd58\":\"UEsDBBQAAAAIAMlYZVOBkDoDkwEAAAAEAAAlAAAAZGF0YS8yZWJkYTdkM2M2YzM2MjdiYTIzM2E4NWI3MDI3Y2Q1OHXTb0SdYRgH4E5/VllpSibJJBlJTERGJEZEjIgYETEiYmxEjIjYh4gYETEiYiJiIjISmUgmySRNaqo5Z53O2TXd077M6/r2vs9z37+fN5uTk83+lSCXPAoopJgSyiinkipqqKWeBppoppU2Ouikmx766GeQIUZ4wxjjTDLFDLPMs8ASy6yyxgabbLPDHvsccsQJp5xzwRVJUlyT5obMrUz2zg1pfpHkJ5f84IzvHPONA76yyxe2+Mw6n1jhI4t8YI73TPOOCd4yyiuGeckAL+jlOV08o52ntPCERh5TxyOqeUgFDyjlPkXcI588Evz/ScRb+fFVUZxSGqdWxC3VcWtdTNEYU7XElO0xdVds0RtbDcSWw7H1aKQwEalMR0pzkdpipLgSqa5HyluR+m60cBCtHEdLZ9HaZbSYilbT0fI/rWeyt25Ic02KJFdccM4pJxxxyD577LDNJhusscoySywwzywzTDHJOGO8ZoQhBumnjx666aSDNlpppokG6qmlhioqKaeMEooppIA8cknc/e5//AZQSwECFAMUAAAACADJWGVTgZA6A5MBAAAABAAAJQAAAAAAAAAAAAAAgAEAAAAAZGF0YS8yZWJkYTdkM2M2YzM2MjdiYTIzM2E4NWI3MDI3Y2Q1OFBLBQYAAAAAAQABAFMAAADWAQAAAAA=\",\"98ee3d84185120897228cd70bff2d128\":\"UEsDBBQAAAAIAMlYZVPCJ+MnGAAAACQAAAAlAAAAZGF0YS85OGVlM2Q4NDE4NTEyMDg5NzIyOGNkNzBiZmYyZDEyONv8WcyDZ/ZHdwYH0yObYWyGaYcR7F9OAFBLAQIUAxQAAAAIAMlYZVPCJ+MnGAAAACQAAAAlAAAAAAAAAAAAAACAAQAAAABkYXRhLzk4ZWUzZDg0MTg1MTIwODk3MjI4Y2Q3MGJmZjJkMTI4UEsFBgAAAAABAAEAUwAAAFsAAAAAAA==\"},\"axes\":{\"id\":\"1009\"},\"margin\":[5,5,5,5],\"orientation_widget\":true,\"scene\":{\"calls\":[[\"addRenderer\",[\"instance:${52fc294b-29c6-42f0-9b1f-6c266d010c22000055b48c8b7560}\"]],[\"addRenderer\",[\"instance:${52fc294b-29c6-42f0-9b1f-6c266d010c22000055b48d9524f0}\"]],[\"addRenderer\",[\"instance:${52fc294b-29c6-42f0-9b1f-6c266d010c22000055b48da484c0}\"]]],\"dependencies\":[{\"calls\":[[\"setActiveCamera\",[\"instance:${000055b48d8dbe30}\"]],[\"addViewProp\",[\"instance:${52fc294b-29c6-42f0-9b1f-6c266d010c22000055b48d9545b0}\"]]],\"dependencies\":[{\"id\":\"000055b48d8dbe30\",\"parent\":\"52fc294b-29c6-42f0-9b1f-6c266d010c22000055b48c8b7560\",\"properties\":{\"clippingRange\":[1137.3591754774106,2281.3665435978],\"focalPoint\":[154574.796875,123702.09375,-300.0],\"position\":[155522.84868590286,124650.14556090285,648.0518109028491],\"viewUp\":[0.0,0.0,1.0]},\"type\":\"vtkOpenGLCamera\"},{\"calls\":[[\"setMapper\",[\"instance:${52fc294b-29c6-42f0-9b1f-6c266d010c22000055b48d9512e0}\"]],[\"setProperty\",[\"instance:${52fc294b-29c6-42f0-9b1f-6c266d010c22000055b48d954f40}\"]]],\"dependencies\":[{\"calls\":[[\"setInputData\",[\"instance:${52fc294b-29c6-42f0-9b1f-6c266d010c22000055b48d9512e0-dataset-0}\",0]],[\"setLookupTable\",[\"instance:${52fc294b-29c6-42f0-9b1f-6c266d010c22000055b48d953e50}\"]]],\"dependencies\":[{\"id\":\"52fc294b-29c6-42f0-9b1f-6c266d010c22000055b48d9512e0-dataset-0\",\"parent\":\"52fc294b-29c6-42f0-9b1f-6c266d010c22000055b48d9512e0\",\"properties\":{\"fields\":[],\"lines\":{\"dataType\":\"Uint32Array\",\"hash\":\"186c474b5ab68d8956e7b7386b479914\",\"name\":null,\"numberOfComponents\":1,\"ranges\":[{\"component\":null,\"max\":3.0,\"min\":0.0}],\"size\":4,\"vtkClass\":\"vtkCellArray\"},\"points\":{\"dataType\":\"Float32Array\",\"hash\":\"98ee3d84185120897228cd70bff2d128\",\"name\":\"Points\",\"numberOfComponents\":3,\"ranges\":[{\"component\":null,\"max\":154574.796875,\"min\":154574.796875},{\"component\":null,\"max\":123702.09375,\"min\":123702.09375},{\"component\":null,\"max\":125.0,\"min\":-725.0},{\"component\":null,\"max\":197980.05316718476,\"min\":197978.7651544511}],\"size\":9,\"vtkClass\":\"vtkPoints\"}},\"type\":\"vtkPolyData\"},{\"arrays\":[{\"dataType\":\"Uint8Array\",\"hash\":\"2ebda7d3c6c3627ba233a85b7027cd58\",\"name\":null,\"numberOfComponents\":4,\"ranges\":[{\"component\":null,\"max\":255.0,\"min\":0.0},{\"component\":null,\"max\":255.0,\"min\":0.0},{\"component\":null,\"max\":255.0,\"min\":0.0},{\"component\":null,\"max\":255.0,\"min\":255.0},{\"component\":null,\"max\":441.0963613542964,\"min\":360.62445840513925}],\"registration\":\"setTable\",\"size\":1024,\"vtkClass\":\"vtkDataArray\"}],\"id\":\"52fc294b-29c6-42f0-9b1f-6c266d010c22000055b48d953e50\",\"parent\":\"52fc294b-29c6-42f0-9b1f-6c266d010c22000055b48d9512e0\",\"properties\":{\"aboveRangeColor\":[1.0,1.0,1.0,1.0],\"alpha\":1.0,\"belowRangeColor\":[0.0,0.0,0.0,1.0],\"hueRange\":[0.5,0],\"indexedLookup\":0,\"nanColor\":[0.5,0.0,0.0,1.0],\"numberOfColors\":256,\"range\":[0.0,1.0],\"saturationRange\":[1.0,1.0],\"useAboveRangeColor\":false,\"useBelowRangeColor\":false,\"valueRange\":[0.0,1.0],\"vectorComponent\":0,\"vectorMode\":1,\"vectorSize\":-1},\"type\":\"vtkLookupTable\"}],\"id\":\"52fc294b-29c6-42f0-9b1f-6c266d010c22000055b48d9512e0\",\"parent\":\"52fc294b-29c6-42f0-9b1f-6c266d010c22000055b48d9545b0\",\"properties\":{\"arrayAccessMode\":1,\"colorByArrayName\":null,\"colorMode\":0,\"interpolateScalarsBeforeMapping\":1,\"renderTime\":0.0,\"resolveCoincidentTopology\":0,\"scalarMode\":5,\"scalarRange\":[0.0,1.0],\"scalarVisibility\":1,\"useLookupTableScalarRange\":0},\"type\":\"vtkDataSetMapper\"},{\"id\":\"52fc294b-29c6-42f0-9b1f-6c266d010c22000055b48d954f40\",\"parent\":\"52fc294b-29c6-42f0-9b1f-6c266d010c22000055b48d9545b0\",\"properties\":{\"ambient\":0.0,\"ambientColor\":[1.0,1.0,1.0],\"backfaceCulling\":0,\"color\":[1.0,1.0,1.0],\"diffuse\":1.0,\"diffuseColor\":[1.0,1.0,1.0],\"edgeColor\":[0.0,0.0,0.0],\"edgeVisibility\":0,\"frontfaceCulling\":0,\"interpolation\":0,\"lighting\":1,\"lineWidth\":5.0,\"opacity\":1.0,\"pointSize\":5.0,\"representation\":2,\"specular\":0.0,\"specularColor\":[1.0,1.0,1.0],\"specularPower\":100.0},\"type\":\"vtkOpenGLProperty\"}],\"id\":\"52fc294b-29c6-42f0-9b1f-6c266d010c22000055b48d9545b0\",\"parent\":\"52fc294b-29c6-42f0-9b1f-6c266d010c22000055b48c8b7560\",\"properties\":{\"dragable\":1,\"forceOpaque\":false,\"forceTranslucent\":false,\"orientation\":[0.0,-0.0,0.0],\"origin\":[0.0,0.0,0.0],\"pickable\":1,\"position\":[0.0,0.0,0.0],\"scale\":[1.0,1.0,1.0],\"useBounds\":true,\"visibility\":1},\"type\":\"vtkOpenGLActor\"}],\"id\":\"52fc294b-29c6-42f0-9b1f-6c266d010c22000055b48c8b7560\",\"parent\":\"52fc294b-29c6-42f0-9b1f-6c266d010c22000055b48da10a70\",\"properties\":{\"background\":[0.3,0.3,0.3],\"background2\":[0.2,0.2,0.2],\"clippingRangeExpansion\":0.5,\"interactive\":1,\"layer\":0,\"lightFollowCamera\":1,\"maximumNumberOfPeels\":4,\"nearClippingPlaneTolerance\":0.001,\"occlusionRatio\":0.0,\"preserveColorBuffer\":0,\"preserveDepthBuffer\":0,\"twoSidedLighting\":1,\"useDepthPeeling\":0,\"useShadows\":0,\"viewport\":[0.0,0.0,1.0,1.0]},\"type\":\"vtkOpenGLRenderer\"},{\"calls\":[[\"setActiveCamera\",[\"instance:${000055b48db22420}\"]]],\"dependencies\":[{\"id\":\"000055b48db22420\",\"parent\":\"52fc294b-29c6-42f0-9b1f-6c266d010c22000055b48d9524f0\",\"properties\":{\"clippingRange\":[0.01,1000.01],\"focalPoint\":[0.0,0.0,0.0],\"position\":[0.0,0.0,1.0],\"viewUp\":[0.0,1.0,0.0]},\"type\":\"vtkOpenGLCamera\"}],\"id\":\"52fc294b-29c6-42f0-9b1f-6c266d010c22000055b48d9524f0\",\"parent\":\"52fc294b-29c6-42f0-9b1f-6c266d010c22000055b48da10a70\",\"properties\":{\"background\":[0.3,0.3,0.3],\"background2\":[0.2,0.2,0.2],\"clippingRangeExpansion\":0.5,\"interactive\":0,\"layer\":1,\"lightFollowCamera\":1,\"maximumNumberOfPeels\":4,\"nearClippingPlaneTolerance\":0.0,\"occlusionRatio\":0.0,\"preserveColorBuffer\":1,\"preserveDepthBuffer\":0,\"twoSidedLighting\":1,\"useDepthPeeling\":0,\"useShadows\":0,\"viewport\":[0.0,0.0,1.0,1.0]},\"type\":\"vtkOpenGLRenderer\"},{\"calls\":[[\"setActiveCamera\",[\"instance:${000055b48d9a79a0}\"]]],\"dependencies\":[{\"id\":\"000055b48d9a79a0\",\"parent\":\"52fc294b-29c6-42f0-9b1f-6c266d010c22000055b48da484c0\",\"properties\":{\"clippingRange\":[3.178428018541373,11.131299659311036],\"focalPoint\":[0.0,0.0,0.0],\"position\":[3.8637033051563123,3.863703305156253,3.8637033051562537],\"viewUp\":[0.0,0.0,1.0]},\"type\":\"vtkOpenGLCamera\"}],\"id\":\"52fc294b-29c6-42f0-9b1f-6c266d010c22000055b48da484c0\",\"parent\":\"52fc294b-29c6-42f0-9b1f-6c266d010c22000055b48da10a70\",\"properties\":{\"background\":[0.0,0.0,0.0],\"background2\":[0.2,0.2,0.2],\"clippingRangeExpansion\":0.5,\"interactive\":0,\"layer\":1,\"lightFollowCamera\":1,\"maximumNumberOfPeels\":4,\"nearClippingPlaneTolerance\":0.001,\"occlusionRatio\":0.0,\"preserveColorBuffer\":1,\"preserveDepthBuffer\":0,\"twoSidedLighting\":1,\"useDepthPeeling\":0,\"useShadows\":0,\"viewport\":[0.0,0.0,0.2,0.2]},\"type\":\"vtkOpenGLRenderer\"}],\"id\":\"52fc294b-29c6-42f0-9b1f-6c266d010c22000055b48da10a70\",\"mtime\":19665,\"parent\":\"52fc294b-29c6-42f0-9b1f-6c266d010c220x0\",\"properties\":{\"numberOfLayers\":2},\"type\":\"vtkXOpenGLRenderWindow\"},\"sizing_mode\":\"stretch_width\"},\"id\":\"1010\",\"type\":\"panel.models.vtk.VTKSynchronizedPlot\"},{\"attributes\":{},\"id\":\"1009\",\"type\":\"panel.models.vtk.VTKAxes\"}],\"root_ids\":[\"1010\",\"1011\"]},\"title\":\"Bokeh Application\",\"version\":\"2.4.1\"}};\n",
       "    var render_items = [{\"docid\":\"9eb94f42-abbf-4d44-a4a9-c6e7b40e0e8e\",\"root_ids\":[\"1010\"],\"roots\":{\"1010\":\"bf8e984b-5e32-478f-a9fa-d187f830a4d8\"}}];\n",
       "    root.Bokeh.embed.embed_items_notebook(docs_json, render_items);\n",
       "  }\n",
       "  if (root.Bokeh !== undefined && root.Bokeh.Panel !== undefined && ( root['vtk'] !== undefined)) {\n",
       "    embed_document(root);\n",
       "  } else {\n",
       "    var attempts = 0;\n",
       "    var timer = setInterval(function(root) {\n",
       "      if (root.Bokeh !== undefined && root.Bokeh.Panel !== undefined && (root['vtk'] !== undefined)) {\n",
       "        clearInterval(timer);\n",
       "        embed_document(root);\n",
       "      } else if (document.readyState == \"complete\") {\n",
       "        attempts++;\n",
       "        if (attempts > 200) {\n",
       "          clearInterval(timer);\n",
       "          console.log(\"Bokeh: ERROR: Unable to run BokehJS code because BokehJS library is missing\");\n",
       "        }\n",
       "      }\n",
       "    }, 25, root)\n",
       "  }\n",
       "})(window);</script>"
      ]
     },
     "metadata": {},
     "output_type": "display_data"
    }
   ],
   "source": [
    "spline = pv.Spline(points, length)\n",
    "spline.plot(jupyter_backend= 'panel',render_lines_as_tubes=True, line_width=5, show_scalar_bar=True)  "
   ]
  },
  {
   "cell_type": "code",
   "execution_count": 12,
   "id": "bf97acfd",
   "metadata": {
    "scrolled": false
   },
   "outputs": [
    {
     "data": {},
     "metadata": {},
     "output_type": "display_data"
    },
    {
     "data": {
      "text/html": [
       "<div id='1016'>\n",
       "\n",
       "\n",
       "\n",
       "\n",
       "\n",
       "  <div class=\"bk-root\" id=\"0f507238-9a86-4573-beb2-a2a77dcef2a1\" data-root-id=\"1016\"></div>\n",
       "</div>\n",
       "<script type=\"application/javascript\">(function(root) {\n",
       "  function embed_document(root) {\n",
       "    var docs_json = {\"2b5c06df-ea01-44bd-9760-196f4bcf26c7\":{\"defs\":[{\"extends\":null,\"module\":null,\"name\":\"ReactiveHTML1\",\"overrides\":[],\"properties\":[]},{\"extends\":null,\"module\":null,\"name\":\"FlexBox1\",\"overrides\":[],\"properties\":[{\"default\":\"flex-start\",\"kind\":null,\"name\":\"align_content\"},{\"default\":\"flex-start\",\"kind\":null,\"name\":\"align_items\"},{\"default\":\"row\",\"kind\":null,\"name\":\"flex_direction\"},{\"default\":\"wrap\",\"kind\":null,\"name\":\"flex_wrap\"},{\"default\":\"flex-start\",\"kind\":null,\"name\":\"justify_content\"}]},{\"extends\":null,\"module\":null,\"name\":\"TemplateActions1\",\"overrides\":[],\"properties\":[{\"default\":0,\"kind\":null,\"name\":\"open_modal\"},{\"default\":0,\"kind\":null,\"name\":\"close_modal\"}]},{\"extends\":null,\"module\":null,\"name\":\"MaterialTemplateActions1\",\"overrides\":[],\"properties\":[{\"default\":0,\"kind\":null,\"name\":\"open_modal\"},{\"default\":0,\"kind\":null,\"name\":\"close_modal\"}]}],\"roots\":{\"references\":[{\"attributes\":{\"arrays\":{\"1815ebf8ce99002ae55d0bdd64305daf\":\"UEsDBBQAAAAIANBYZVM6nFZpggAAALAEAAAlAAAAZGF0YS8xODE1ZWJmOGNlOTkwMDJhZTU1ZDBiZGQ2NDMwNWRhZmNgAIEGexBZZT7PrrCiGMyWqBSz3yvtD2aDaBAfxAbJg9QxQPUZGfaqIInvAwlC1e8HsaHmgNlQ88FsI0NeVSAFE98HFQfZux+qHmTvfqg5IPP3Q80Hadl/6mTwUiRxOyT19kjmwPy1D+YvmLtH/Tts/dsAwRC7RwAb5m2M+B6ObABQSwECFAMUAAAACADQWGVTOpxWaYIAAACwBAAAJQAAAAAAAAAAAAAAgAEAAAAAZGF0YS8xODE1ZWJmOGNlOTkwMDJhZTU1ZDBiZGQ2NDMwNWRhZlBLBQYAAAAAAQABAFMAAADFAAAAAAA=\",\"2ebda7d3c6c3627ba233a85b7027cd58\":\"UEsDBBQAAAAIANBYZVOBkDoDkwEAAAAEAAAlAAAAZGF0YS8yZWJkYTdkM2M2YzM2MjdiYTIzM2E4NWI3MDI3Y2Q1OHXTb0SdYRgH4E5/VllpSibJJBlJTERGJEZEjIgYETEiYmxEjIjYh4gYETEiYiJiIjISmUgmySRNaqo5Z53O2TXd077M6/r2vs9z37+fN5uTk83+lSCXPAoopJgSyiinkipqqKWeBppoppU2Ouikmx766GeQIUZ4wxjjTDLFDLPMs8ASy6yyxgabbLPDHvsccsQJp5xzwRVJUlyT5obMrUz2zg1pfpHkJ5f84IzvHPONA76yyxe2+Mw6n1jhI4t8YI73TPOOCd4yyiuGeckAL+jlOV08o52ntPCERh5TxyOqeUgFDyjlPkXcI588Evz/ScRb+fFVUZxSGqdWxC3VcWtdTNEYU7XElO0xdVds0RtbDcSWw7H1aKQwEalMR0pzkdpipLgSqa5HyluR+m60cBCtHEdLZ9HaZbSYilbT0fI/rWeyt25Ic02KJFdccM4pJxxxyD577LDNJhusscoySywwzywzTDHJOGO8ZoQhBumnjx666aSDNlpppokG6qmlhioqKaeMEooppIA8cknc/e5//AZQSwECFAMUAAAACADQWGVTgZA6A5MBAAAABAAAJQAAAAAAAAAAAAAAgAEAAAAAZGF0YS8yZWJkYTdkM2M2YzM2MjdiYTIzM2E4NWI3MDI3Y2Q1OFBLBQYAAAAAAQABAFMAAADWAQAAAAA=\",\"32a20e4329c70b5576e4dbb8b1254675\":\"UEsDBBQAAAAIANBYZVOlA52P5AAAANgCAAAlAAAAZGF0YS8zMmEyMGU0MzI5YzcwYjU1NzZlNGRiYjhiMTI1NDY3NU3M1U5EQRAA0Ytd3BeXxVnc3d3d3f7/H6gO9cAklU73SSZNkiQv+XsNlKEhylFK+XqjPqyHFehN+ogeVqg366N6WJHeoo/p6T9v1cf1uBc72/QJPW4lers+qYeV6h36lB5Wpnfq03pYuZ7VZ/SwCr1Ln9XDKvVufU4Pq9J79Hk9rFrv1Rf0sBq9T1/Uw2r1fn1JD6vTB/RlPaxeH9RX9LBEz+g5PfZVWqMLWqdz2qAz2qRT2qIT2qZj2qEj2qVD2qMD2vfPS/qhK/qma/qiG/qkW/qgO3qne3qjB3qlR3qhJ3qmX1BLAQIUAxQAAAAIANBYZVOlA52P5AAAANgCAAAlAAAAAAAAAAAAAACAAQAAAABkYXRhLzMyYTIwZTQzMjljNzBiNTU3NmU0ZGJiOGIxMjU0Njc1UEsFBgAAAAABAAEAUwAAACcBAAAAAA==\",\"438076415e10795389d119bff25e3b45\":\"UEsDBBQAAAAIANBYZVOsrpS38gAAALAEAAAlAAAAZGF0YS80MzgwNzY0MTVlMTA3OTUzODlkMTE5YmZmMjVlM2I0NeWSPQrCYBBEU6WysshN7GULTelFxMIjaGkpYoyewEYIeAE9gVfwBCaCsJX7ZX/mEOkewzLfPJKmK8rd5TPPppNn8S3KpfFKeGx8F96eld/Cr1q5Ex7VyGcn3O8r9OQV+q9H5Sa9a7zokP9a3N9a9Gxa9K9bvJty35PufWfq8f2p370a980Oj/AVDl/h8BUOX+HwtbzfY/f9TuvJK/T3XsLhKxy+wuErHL7C4Sscvpb7nvC1Ht8fvv5uz0zwZYIvE3yZ4MsEX811j97rTu3JK/SrFxN8meDLBF8m+DLBlwm+mvse+GqP74evvTvI/3kY3/cPUEsBAhQDFAAAAAgA0FhlU6yulLfyAAAAsAQAACUAAAAAAAAAAAAAAIABAAAAAGRhdGEvNDM4MDc2NDE1ZTEwNzk1Mzg5ZDExOWJmZjI1ZTNiNDVQSwUGAAAAAAEAAQBTAAAANQEAAAAA\"},\"axes\":{\"id\":\"1015\"},\"margin\":[5,5,5,5],\"orientation_widget\":true,\"scene\":{\"calls\":[[\"addRenderer\",[\"instance:${1d811a06-ba3c-4cd9-badb-b570e4348002000055b48da3e060}\"]],[\"addRenderer\",[\"instance:${1d811a06-ba3c-4cd9-badb-b570e4348002000055b48e633ec0}\"]],[\"addRenderer\",[\"instance:${1d811a06-ba3c-4cd9-badb-b570e4348002000055b48e5ec3c0}\"]]],\"dependencies\":[{\"calls\":[[\"setActiveCamera\",[\"instance:${000055b48e5b81b0}\"]],[\"addViewProp\",[\"instance:${1d811a06-ba3c-4cd9-badb-b570e4348002000055b48e5cc280}\"]]],\"dependencies\":[{\"id\":\"000055b48e5b81b0\",\"parent\":\"1d811a06-ba3c-4cd9-badb-b570e4348002000055b48da3e060\",\"properties\":{\"clippingRange\":[1126.0948934498356,2296.059837693766],\"focalPoint\":[154574.796875,123702.09375,-300.0],\"position\":[155522.979895067,124650.27677006698,648.1830200669821],\"viewUp\":[0.0,0.0,1.0]},\"type\":\"vtkOpenGLCamera\"},{\"calls\":[[\"setMapper\",[\"instance:${1d811a06-ba3c-4cd9-badb-b570e4348002000055b48e6b2650}\"]],[\"setProperty\",[\"instance:${1d811a06-ba3c-4cd9-badb-b570e4348002000055b48e76ced0}\"]]],\"dependencies\":[{\"calls\":[[\"setInputData\",[\"instance:${1d811a06-ba3c-4cd9-badb-b570e4348002000055b48e6b2650-dataset-0}\",0]],[\"setLookupTable\",[\"instance:${1d811a06-ba3c-4cd9-badb-b570e4348002000055b48e5cbb20}\"]]],\"dependencies\":[{\"id\":\"1d811a06-ba3c-4cd9-badb-b570e4348002000055b48e6b2650-dataset-0\",\"parent\":\"1d811a06-ba3c-4cd9-badb-b570e4348002000055b48e6b2650\",\"properties\":{\"fields\":[{\"dataType\":\"Float32Array\",\"hash\":\"1815ebf8ce99002ae55d0bdd64305daf\",\"location\":\"pointData\",\"name\":\"TubeNormals\",\"numberOfComponents\":3,\"ranges\":[{\"component\":null,\"max\":1.0,\"min\":-1.0},{\"component\":null,\"max\":1.0,\"min\":-1.0},{\"component\":null,\"max\":1.0,\"min\":-1.0},{\"component\":null,\"max\":1.0000000250926921,\"min\":1.0}],\"registration\":\"setNormals\",\"size\":300,\"vtkClass\":\"vtkDataArray\"}],\"points\":{\"dataType\":\"Float32Array\",\"hash\":\"438076415e10795389d119bff25e3b45\",\"name\":\"Points\",\"numberOfComponents\":3,\"ranges\":[{\"component\":null,\"max\":154579.796875,\"min\":154569.796875},{\"component\":null,\"max\":123707.09375,\"min\":123697.09375},{\"component\":null,\"max\":125.0,\"min\":-725.0},{\"component\":null,\"max\":197985.04821488514,\"min\":197973.7700745339}],\"size\":300,\"vtkClass\":\"vtkPoints\"},\"strips\":{\"dataType\":\"Uint32Array\",\"hash\":\"32a20e4329c70b5576e4dbb8b1254675\",\"name\":null,\"numberOfComponents\":1,\"ranges\":[{\"component\":null,\"max\":99.0,\"min\":0.0}],\"size\":182,\"vtkClass\":\"vtkCellArray\"}},\"type\":\"vtkPolyData\"},{\"arrays\":[{\"dataType\":\"Uint8Array\",\"hash\":\"2ebda7d3c6c3627ba233a85b7027cd58\",\"name\":null,\"numberOfComponents\":4,\"ranges\":[{\"component\":null,\"max\":255.0,\"min\":0.0},{\"component\":null,\"max\":255.0,\"min\":0.0},{\"component\":null,\"max\":255.0,\"min\":0.0},{\"component\":null,\"max\":255.0,\"min\":255.0},{\"component\":null,\"max\":441.0963613542964,\"min\":360.62445840513925}],\"registration\":\"setTable\",\"size\":1024,\"vtkClass\":\"vtkDataArray\"}],\"id\":\"1d811a06-ba3c-4cd9-badb-b570e4348002000055b48e5cbb20\",\"parent\":\"1d811a06-ba3c-4cd9-badb-b570e4348002000055b48e6b2650\",\"properties\":{\"aboveRangeColor\":[1.0,1.0,1.0,1.0],\"alpha\":1.0,\"belowRangeColor\":[0.0,0.0,0.0,1.0],\"hueRange\":[0.5,0],\"indexedLookup\":0,\"nanColor\":[0.5,0.0,0.0,1.0],\"numberOfColors\":256,\"range\":[0.0,1.0],\"saturationRange\":[1.0,1.0],\"useAboveRangeColor\":false,\"useBelowRangeColor\":false,\"valueRange\":[0.0,1.0],\"vectorComponent\":0,\"vectorMode\":1,\"vectorSize\":-1},\"type\":\"vtkLookupTable\"}],\"id\":\"1d811a06-ba3c-4cd9-badb-b570e4348002000055b48e6b2650\",\"parent\":\"1d811a06-ba3c-4cd9-badb-b570e4348002000055b48e5cc280\",\"properties\":{\"arrayAccessMode\":1,\"colorByArrayName\":null,\"colorMode\":0,\"interpolateScalarsBeforeMapping\":1,\"renderTime\":0.0,\"resolveCoincidentTopology\":0,\"scalarMode\":5,\"scalarRange\":[0.0,1.0],\"scalarVisibility\":1,\"useLookupTableScalarRange\":0},\"type\":\"vtkDataSetMapper\"},{\"id\":\"1d811a06-ba3c-4cd9-badb-b570e4348002000055b48e76ced0\",\"parent\":\"1d811a06-ba3c-4cd9-badb-b570e4348002000055b48e5cc280\",\"properties\":{\"ambient\":0.0,\"ambientColor\":[0.8235294117647058,0.7058823529411765,0.5490196078431373],\"backfaceCulling\":0,\"color\":[0.8235294117647058,0.7058823529411765,0.5490196078431373],\"diffuse\":1.0,\"diffuseColor\":[0.8235294117647058,0.7058823529411765,0.5490196078431373],\"edgeColor\":[0.0,0.0,0.0],\"edgeVisibility\":0,\"frontfaceCulling\":0,\"interpolation\":0,\"lighting\":1,\"lineWidth\":1.0,\"opacity\":1.0,\"pointSize\":5.0,\"representation\":2,\"specular\":0.0,\"specularColor\":[0.8235294117647058,0.7058823529411765,0.5490196078431373],\"specularPower\":100.0},\"type\":\"vtkOpenGLProperty\"}],\"id\":\"1d811a06-ba3c-4cd9-badb-b570e4348002000055b48e5cc280\",\"parent\":\"1d811a06-ba3c-4cd9-badb-b570e4348002000055b48da3e060\",\"properties\":{\"dragable\":1,\"forceOpaque\":false,\"forceTranslucent\":false,\"orientation\":[0.0,-0.0,0.0],\"origin\":[0.0,0.0,0.0],\"pickable\":1,\"position\":[0.0,0.0,0.0],\"scale\":[1.0,1.0,1.0],\"useBounds\":true,\"visibility\":1},\"type\":\"vtkOpenGLActor\"}],\"id\":\"1d811a06-ba3c-4cd9-badb-b570e4348002000055b48da3e060\",\"parent\":\"1d811a06-ba3c-4cd9-badb-b570e4348002000055b48e798960\",\"properties\":{\"background\":[0.3,0.3,0.3],\"background2\":[0.2,0.2,0.2],\"clippingRangeExpansion\":0.5,\"interactive\":1,\"layer\":0,\"lightFollowCamera\":1,\"maximumNumberOfPeels\":4,\"nearClippingPlaneTolerance\":0.001,\"occlusionRatio\":0.0,\"preserveColorBuffer\":0,\"preserveDepthBuffer\":0,\"twoSidedLighting\":1,\"useDepthPeeling\":0,\"useShadows\":0,\"viewport\":[0.0,0.0,1.0,1.0]},\"type\":\"vtkOpenGLRenderer\"},{\"calls\":[[\"setActiveCamera\",[\"instance:${000055b48e685510}\"]]],\"dependencies\":[{\"id\":\"000055b48e685510\",\"parent\":\"1d811a06-ba3c-4cd9-badb-b570e4348002000055b48e633ec0\",\"properties\":{\"clippingRange\":[0.01,1000.01],\"focalPoint\":[0.0,0.0,0.0],\"position\":[0.0,0.0,1.0],\"viewUp\":[0.0,1.0,0.0]},\"type\":\"vtkOpenGLCamera\"}],\"id\":\"1d811a06-ba3c-4cd9-badb-b570e4348002000055b48e633ec0\",\"parent\":\"1d811a06-ba3c-4cd9-badb-b570e4348002000055b48e798960\",\"properties\":{\"background\":[0.3,0.3,0.3],\"background2\":[0.2,0.2,0.2],\"clippingRangeExpansion\":0.5,\"interactive\":0,\"layer\":1,\"lightFollowCamera\":1,\"maximumNumberOfPeels\":4,\"nearClippingPlaneTolerance\":0.0,\"occlusionRatio\":0.0,\"preserveColorBuffer\":1,\"preserveDepthBuffer\":0,\"twoSidedLighting\":1,\"useDepthPeeling\":0,\"useShadows\":0,\"viewport\":[0.0,0.0,1.0,1.0]},\"type\":\"vtkOpenGLRenderer\"},{\"calls\":[[\"setActiveCamera\",[\"instance:${000055b48e7091e0}\"]]],\"dependencies\":[{\"id\":\"000055b48e7091e0\",\"parent\":\"1d811a06-ba3c-4cd9-badb-b570e4348002000055b48e5ec3c0\",\"properties\":{\"clippingRange\":[3.178428018541373,11.131299659311036],\"focalPoint\":[0.0,0.0,0.0],\"position\":[3.8637033051563088,3.8637033051562493,3.8637033051562613],\"viewUp\":[0.0,0.0,1.0]},\"type\":\"vtkOpenGLCamera\"}],\"id\":\"1d811a06-ba3c-4cd9-badb-b570e4348002000055b48e5ec3c0\",\"parent\":\"1d811a06-ba3c-4cd9-badb-b570e4348002000055b48e798960\",\"properties\":{\"background\":[0.0,0.0,0.0],\"background2\":[0.2,0.2,0.2],\"clippingRangeExpansion\":0.5,\"interactive\":0,\"layer\":1,\"lightFollowCamera\":1,\"maximumNumberOfPeels\":4,\"nearClippingPlaneTolerance\":0.001,\"occlusionRatio\":0.0,\"preserveColorBuffer\":1,\"preserveDepthBuffer\":0,\"twoSidedLighting\":1,\"useDepthPeeling\":0,\"useShadows\":0,\"viewport\":[0.0,0.0,0.2,0.2]},\"type\":\"vtkOpenGLRenderer\"}],\"id\":\"1d811a06-ba3c-4cd9-badb-b570e4348002000055b48e798960\",\"mtime\":34177,\"parent\":\"1d811a06-ba3c-4cd9-badb-b570e43480020x0\",\"properties\":{\"numberOfLayers\":2},\"type\":\"vtkXOpenGLRenderWindow\"},\"sizing_mode\":\"stretch_width\"},\"id\":\"1016\",\"type\":\"panel.models.vtk.VTKSynchronizedPlot\"},{\"attributes\":{},\"id\":\"1015\",\"type\":\"panel.models.vtk.VTKAxes\"},{\"attributes\":{\"client_comm_id\":\"c69f620eb65d4aa0a6d2a5659870cd34\",\"comm_id\":\"132fd49a0c294eea925cd7f97e4b90c1\",\"plot_id\":\"1016\"},\"id\":\"1017\",\"type\":\"panel.models.comm_manager.CommManager\"}],\"root_ids\":[\"1016\",\"1017\"]},\"title\":\"Bokeh Application\",\"version\":\"2.4.1\"}};\n",
       "    var render_items = [{\"docid\":\"2b5c06df-ea01-44bd-9760-196f4bcf26c7\",\"root_ids\":[\"1016\"],\"roots\":{\"1016\":\"0f507238-9a86-4573-beb2-a2a77dcef2a1\"}}];\n",
       "    root.Bokeh.embed.embed_items_notebook(docs_json, render_items);\n",
       "  }\n",
       "  if (root.Bokeh !== undefined && root.Bokeh.Panel !== undefined && ( root['vtk'] !== undefined)) {\n",
       "    embed_document(root);\n",
       "  } else {\n",
       "    var attempts = 0;\n",
       "    var timer = setInterval(function(root) {\n",
       "      if (root.Bokeh !== undefined && root.Bokeh.Panel !== undefined && (root['vtk'] !== undefined)) {\n",
       "        clearInterval(timer);\n",
       "        embed_document(root);\n",
       "      } else if (document.readyState == \"complete\") {\n",
       "        attempts++;\n",
       "        if (attempts > 200) {\n",
       "          clearInterval(timer);\n",
       "          console.log(\"Bokeh: ERROR: Unable to run BokehJS code because BokehJS library is missing\");\n",
       "        }\n",
       "      }\n",
       "    }, 25, root)\n",
       "  }\n",
       "})(window);</script>"
      ]
     },
     "metadata": {},
     "output_type": "display_data"
    }
   ],
   "source": [
    "tube = spline.tube(radius=5)  \n",
    "tube.plot(color='tan', jupyter_backend= 'panel')"
   ]
  },
  {
   "cell_type": "code",
   "execution_count": null,
   "id": "3d8335ba",
   "metadata": {},
   "outputs": [],
   "source": []
  }
 ],
 "metadata": {
  "kernelspec": {
   "display_name": "Python 3",
   "language": "python",
   "name": "python3"
  },
  "language_info": {
   "codemirror_mode": {
    "name": "ipython",
    "version": 3
   },
   "file_extension": ".py",
   "mimetype": "text/x-python",
   "name": "python",
   "nbconvert_exporter": "python",
   "pygments_lexer": "ipython3",
   "version": "3.8.9"
  }
 },
 "nbformat": 4,
 "nbformat_minor": 5
}
