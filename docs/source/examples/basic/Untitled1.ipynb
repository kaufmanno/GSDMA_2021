{
 "cells": [
  {
   "cell_type": "code",
   "execution_count": 1,
   "id": "da070fa8-cfe0-4b5d-b602-d942e3541259",
   "metadata": {},
   "outputs": [],
   "source": [
    "import numpy as np\n",
    "import pandas as pd"
   ]
  },
  {
   "cell_type": "code",
   "execution_count": 2,
   "id": "4f4df53d-b84d-4992-bed7-fafbf2729bc0",
   "metadata": {},
   "outputs": [],
   "source": [
    "import flopy"
   ]
  },
  {
   "cell_type": "code",
   "execution_count": 3,
   "id": "5cd28038-7078-4e50-bd1b-e605fe19143e",
   "metadata": {},
   "outputs": [],
   "source": [
    "m = flopy.modflow.Modflow()\n",
    "dis =flopy.modflow.ModflowDis.load('211108_trial.dis',m)\n",
    "lpf = flopy.modflow.ModflowLpf.load('211108_generic.lpf', m)"
   ]
  },
  {
   "cell_type": "code",
   "execution_count": 4,
   "id": "fc7083a9-c94c-4ccd-a56b-9dfa13ed63ec",
   "metadata": {},
   "outputs": [],
   "source": [
    "out_dis_file = './test_dis.dis'"
   ]
  },
  {
   "cell_type": "code",
   "execution_count": 5,
   "id": "1900d4f0-df88-43bf-8b52-d34a480ae3bd",
   "metadata": {},
   "outputs": [
    {
     "data": {
      "text/plain": [
       "16"
      ]
     },
     "execution_count": 5,
     "metadata": {},
     "output_type": "execute_result"
    }
   ],
   "source": [
    "dis.nlay"
   ]
  },
  {
   "cell_type": "code",
   "execution_count": 6,
   "id": "bc19945e-529d-4ed7-b7a4-226354cf6fe2",
   "metadata": {},
   "outputs": [],
   "source": [
    "with open(out_dis_file, mode='w+') as out_dis:\n",
    "    out_dis.write('# MF2K DISCRETIZATION FILE\\n#\\n#\\n# NLAY NROW NCOL NPER TIMEUNITS LENUNITS\\n')\n",
    "    out_dis.write(f'{dis.nlay:6d}{dis.nrow:6d}{dis.ncol:6d}{dis.nper:6')"
   ]
  },
  {
   "cell_type": "code",
   "execution_count": null,
   "id": "f8b1ae65-5952-4f40-a01a-2a24b88a9723",
   "metadata": {},
   "outputs": [],
   "source": []
  }
 ],
 "metadata": {
  "kernelspec": {
   "display_name": "Python 3 (ipykernel)",
   "language": "python",
   "name": "python3"
  },
  "language_info": {
   "codemirror_mode": {
    "name": "ipython",
    "version": 3
   },
   "file_extension": ".py",
   "mimetype": "text/x-python",
   "name": "python",
   "nbconvert_exporter": "python",
   "pygments_lexer": "ipython3",
   "version": "3.8.10"
  }
 },
 "nbformat": 4,
 "nbformat_minor": 5
}
